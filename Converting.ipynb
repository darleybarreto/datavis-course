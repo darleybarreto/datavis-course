{
 "cells": [
  {
   "cell_type": "code",
   "execution_count": 1,
   "metadata": {
    "collapsed": true
   },
   "outputs": [],
   "source": [
    "import pandas as pd"
   ]
  },
  {
   "cell_type": "code",
   "execution_count": null,
   "metadata": {},
   "outputs": [],
   "source": [
    "df_deputies = pd.read_csv('data/Chamber/reimbursements.xz',compression='xz',low_memory=False)\n",
    "list(df_deputies)"
   ]
  },
  {
   "cell_type": "code",
   "execution_count": null,
   "metadata": {},
   "outputs": [],
   "source": [
    "df_deputies"
   ]
  },
  {
   "cell_type": "code",
   "execution_count": 2,
   "metadata": {},
   "outputs": [
    {
     "data": {
      "text/plain": [
       "['year',\n",
       " 'month',\n",
       " 'congressperson_name',\n",
       " 'expense_type',\n",
       " 'cnpj_cpf',\n",
       " 'supplier',\n",
       " 'document_id',\n",
       " 'date',\n",
       " 'expense_details',\n",
       " 'reimbursement_value']"
      ]
     },
     "execution_count": 2,
     "metadata": {},
     "output_type": "execute_result"
    }
   ],
   "source": [
    "df_senate = pd.read_csv(\"data/Senate/federal-senate-reimbursements.xz\",compression='xz')\n",
    "list(df_senate)"
   ]
  },
  {
   "cell_type": "code",
   "execution_count": 3,
   "metadata": {},
   "outputs": [
    {
     "data": {
      "text/html": [
       "<div>\n",
       "<style>\n",
       "    .dataframe thead tr:only-child th {\n",
       "        text-align: right;\n",
       "    }\n",
       "\n",
       "    .dataframe thead th {\n",
       "        text-align: left;\n",
       "    }\n",
       "\n",
       "    .dataframe tbody tr th {\n",
       "        vertical-align: top;\n",
       "    }\n",
       "</style>\n",
       "<table border=\"1\" class=\"dataframe\">\n",
       "  <thead>\n",
       "    <tr style=\"text-align: right;\">\n",
       "      <th></th>\n",
       "      <th>year</th>\n",
       "      <th>month</th>\n",
       "      <th>congressperson_name</th>\n",
       "      <th>expense_type</th>\n",
       "      <th>cnpj_cpf</th>\n",
       "      <th>supplier</th>\n",
       "      <th>document_id</th>\n",
       "      <th>date</th>\n",
       "      <th>expense_details</th>\n",
       "      <th>reimbursement_value</th>\n",
       "    </tr>\n",
       "  </thead>\n",
       "  <tbody>\n",
       "    <tr>\n",
       "      <th>0</th>\n",
       "      <td>2008</td>\n",
       "      <td>9</td>\n",
       "      <td>ADA MELLO</td>\n",
       "      <td>Recruitment of consultancies, advisory service...</td>\n",
       "      <td>NaN</td>\n",
       "      <td>NaN</td>\n",
       "      <td>NaN</td>\n",
       "      <td>NaN</td>\n",
       "      <td>NaN</td>\n",
       "      <td>12351,52</td>\n",
       "    </tr>\n",
       "    <tr>\n",
       "      <th>1</th>\n",
       "      <td>2008</td>\n",
       "      <td>9</td>\n",
       "      <td>ADA MELLO</td>\n",
       "      <td>Locomotion, lodging, food, fuels and lubricants</td>\n",
       "      <td>NaN</td>\n",
       "      <td>NaN</td>\n",
       "      <td>NaN</td>\n",
       "      <td>NaN</td>\n",
       "      <td>NaN</td>\n",
       "      <td>386,6</td>\n",
       "    </tr>\n",
       "    <tr>\n",
       "      <th>2</th>\n",
       "      <td>2008</td>\n",
       "      <td>10</td>\n",
       "      <td>ADA MELLO</td>\n",
       "      <td>Recruitment of consultancies, advisory service...</td>\n",
       "      <td>NaN</td>\n",
       "      <td>NaN</td>\n",
       "      <td>NaN</td>\n",
       "      <td>NaN</td>\n",
       "      <td>NaN</td>\n",
       "      <td>12351,52</td>\n",
       "    </tr>\n",
       "    <tr>\n",
       "      <th>3</th>\n",
       "      <td>2008</td>\n",
       "      <td>10</td>\n",
       "      <td>ADA MELLO</td>\n",
       "      <td>Locomotion, lodging, food, fuels and lubricants</td>\n",
       "      <td>NaN</td>\n",
       "      <td>NaN</td>\n",
       "      <td>NaN</td>\n",
       "      <td>NaN</td>\n",
       "      <td>NaN</td>\n",
       "      <td>2610,68</td>\n",
       "    </tr>\n",
       "    <tr>\n",
       "      <th>4</th>\n",
       "      <td>2008</td>\n",
       "      <td>11</td>\n",
       "      <td>ADA MELLO</td>\n",
       "      <td>Recruitment of consultancies, advisory service...</td>\n",
       "      <td>NaN</td>\n",
       "      <td>NaN</td>\n",
       "      <td>NaN</td>\n",
       "      <td>NaN</td>\n",
       "      <td>NaN</td>\n",
       "      <td>12351,52</td>\n",
       "    </tr>\n",
       "  </tbody>\n",
       "</table>\n",
       "</div>"
      ],
      "text/plain": [
       "   year  month congressperson_name  \\\n",
       "0  2008      9           ADA MELLO   \n",
       "1  2008      9           ADA MELLO   \n",
       "2  2008     10           ADA MELLO   \n",
       "3  2008     10           ADA MELLO   \n",
       "4  2008     11           ADA MELLO   \n",
       "\n",
       "                                        expense_type  cnpj_cpf supplier  \\\n",
       "0  Recruitment of consultancies, advisory service...       NaN      NaN   \n",
       "1    Locomotion, lodging, food, fuels and lubricants       NaN      NaN   \n",
       "2  Recruitment of consultancies, advisory service...       NaN      NaN   \n",
       "3    Locomotion, lodging, food, fuels and lubricants       NaN      NaN   \n",
       "4  Recruitment of consultancies, advisory service...       NaN      NaN   \n",
       "\n",
       "  document_id date expense_details reimbursement_value  \n",
       "0         NaN  NaN             NaN            12351,52  \n",
       "1         NaN  NaN             NaN               386,6  \n",
       "2         NaN  NaN             NaN            12351,52  \n",
       "3         NaN  NaN             NaN             2610,68  \n",
       "4         NaN  NaN             NaN            12351,52  "
      ]
     },
     "execution_count": 3,
     "metadata": {},
     "output_type": "execute_result"
    }
   ],
   "source": [
    "df_senate.head()"
   ]
  },
  {
   "cell_type": "code",
   "execution_count": null,
   "metadata": {
    "collapsed": true
   },
   "outputs": [],
   "source": [
    "# df_senate[df_senate[\"year\"]==2010].head()"
   ]
  },
  {
   "cell_type": "code",
   "execution_count": null,
   "metadata": {},
   "outputs": [],
   "source": [
    "df_senate"
   ]
  },
  {
   "cell_type": "code",
   "execution_count": null,
   "metadata": {
    "collapsed": true
   },
   "outputs": [],
   "source": [
    "new_deputies = df_deputies.drop(['passenger','leg_of_the_trip','document_type',\n",
    "                  'document_id','applicant_id','congressperson_id',\n",
    "                  'congressperson_document','cnpj_cpf','term_id',\n",
    "                  'document_number'], axis=1)"
   ]
  },
  {
   "cell_type": "code",
   "execution_count": null,
   "metadata": {
    "collapsed": true
   },
   "outputs": [],
   "source": [
    "new_senate = df_senate.drop(['cnpj_cpf','document_id','expense_details',] ,axis=1)"
   ]
  },
  {
   "cell_type": "code",
   "execution_count": null,
   "metadata": {},
   "outputs": [],
   "source": [
    "new_deputies"
   ]
  },
  {
   "cell_type": "code",
   "execution_count": null,
   "metadata": {
    "collapsed": true
   },
   "outputs": [],
   "source": [
    "new_deputies.to_csv(path_or_buf='clean_deputies.csv', sep=',')"
   ]
  },
  {
   "cell_type": "code",
   "execution_count": null,
   "metadata": {
    "collapsed": true
   },
   "outputs": [],
   "source": [
    "new_deputies.to_csv(path_or_buf='clean_deputies.xz', sep=',', compression='xz')"
   ]
  },
  {
   "cell_type": "code",
   "execution_count": null,
   "metadata": {},
   "outputs": [],
   "source": [
    "new_senate"
   ]
  },
  {
   "cell_type": "code",
   "execution_count": null,
   "metadata": {
    "collapsed": true
   },
   "outputs": [],
   "source": [
    "new_senate.to_csv(path_or_buf='clean_senate.csv', sep=',')"
   ]
  },
  {
   "cell_type": "code",
   "execution_count": null,
   "metadata": {
    "collapsed": true
   },
   "outputs": [],
   "source": [
    "new_senate.to_csv(path_or_buf='clean_senate.xz', sep=',', compression='xz')"
   ]
  },
  {
   "cell_type": "code",
   "execution_count": null,
   "metadata": {
    "collapsed": true
   },
   "outputs": [],
   "source": []
  }
 ],
 "metadata": {
  "kernelspec": {
   "display_name": "Python 3",
   "language": "python",
   "name": "python3"
  },
  "language_info": {
   "codemirror_mode": {
    "name": "ipython",
    "version": 3
   },
   "file_extension": ".py",
   "mimetype": "text/x-python",
   "name": "python",
   "nbconvert_exporter": "python",
   "pygments_lexer": "ipython3",
   "version": "3.6.2"
  }
 },
 "nbformat": 4,
 "nbformat_minor": 2
}
