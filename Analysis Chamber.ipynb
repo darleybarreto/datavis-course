{
 "cells": [
  {
   "cell_type": "code",
   "execution_count": 1,
   "metadata": {
    "collapsed": true
   },
   "outputs": [],
   "source": [
    "import json"
   ]
  },
  {
   "cell_type": "code",
   "execution_count": 2,
   "metadata": {
    "collapsed": true
   },
   "outputs": [],
   "source": [
    "import pandas as pd"
   ]
  },
  {
   "cell_type": "code",
   "execution_count": 3,
   "metadata": {},
   "outputs": [
    {
     "name": "stderr",
     "output_type": "stream",
     "text": [
      "/home/local/LSBD/israel.vidal/anaconda3/lib/python3.6/site-packages/numpy/lib/arraysetops.py:463: FutureWarning: elementwise comparison failed; returning scalar instead, but in the future will perform elementwise comparison\n",
      "  mask |= (ar1 == a)\n"
     ]
    }
   ],
   "source": [
    "df_chamber = pd.read_csv(\"./data/Chamber/clean_deputies.xz\",compression='xz',low_memory=False,index_col=0)\n",
    "# df_chamber.drop(columns=['Unnamed: 0.1', 'Unnamed: 0.1.1'],inplace=True)\n",
    "att = \"total_net_value\""
   ]
  },
  {
   "cell_type": "code",
   "execution_count": null,
   "metadata": {},
   "outputs": [],
   "source": [
    "df_chamber"
   ]
  },
  {
   "cell_type": "code",
   "execution_count": null,
   "metadata": {},
   "outputs": [],
   "source": [
    "pd.unique(df_chamber[\"year\"])"
   ]
  },
  {
   "cell_type": "markdown",
   "metadata": {},
   "source": [
    "**Pegando soma, média e máximo por ano:**"
   ]
  },
  {
   "cell_type": "code",
   "execution_count": 4,
   "metadata": {},
   "outputs": [
    {
     "data": {
      "text/html": [
       "<div>\n",
       "<style>\n",
       "    .dataframe thead tr:only-child th {\n",
       "        text-align: right;\n",
       "    }\n",
       "\n",
       "    .dataframe thead th {\n",
       "        text-align: left;\n",
       "    }\n",
       "\n",
       "    .dataframe tbody tr th {\n",
       "        vertical-align: top;\n",
       "    }\n",
       "</style>\n",
       "<table border=\"1\" class=\"dataframe\">\n",
       "  <thead>\n",
       "    <tr style=\"text-align: right;\">\n",
       "      <th></th>\n",
       "      <th>sum</th>\n",
       "      <th>mean</th>\n",
       "      <th>max</th>\n",
       "    </tr>\n",
       "    <tr>\n",
       "      <th>year</th>\n",
       "      <th></th>\n",
       "      <th></th>\n",
       "      <th></th>\n",
       "    </tr>\n",
       "  </thead>\n",
       "  <tbody>\n",
       "    <tr>\n",
       "      <th>2009</th>\n",
       "      <td>9.078889e+07</td>\n",
       "      <td>528.020416</td>\n",
       "      <td>122850.0</td>\n",
       "    </tr>\n",
       "    <tr>\n",
       "      <th>2010</th>\n",
       "      <td>1.203424e+08</td>\n",
       "      <td>589.050156</td>\n",
       "      <td>141000.0</td>\n",
       "    </tr>\n",
       "    <tr>\n",
       "      <th>2011</th>\n",
       "      <td>1.237837e+08</td>\n",
       "      <td>580.111752</td>\n",
       "      <td>197000.0</td>\n",
       "    </tr>\n",
       "    <tr>\n",
       "      <th>2012</th>\n",
       "      <td>1.227342e+08</td>\n",
       "      <td>622.955916</td>\n",
       "      <td>215000.0</td>\n",
       "    </tr>\n",
       "    <tr>\n",
       "      <th>2013</th>\n",
       "      <td>1.309542e+08</td>\n",
       "      <td>674.475887</td>\n",
       "      <td>197370.0</td>\n",
       "    </tr>\n",
       "    <tr>\n",
       "      <th>2014</th>\n",
       "      <td>1.410440e+08</td>\n",
       "      <td>819.337484</td>\n",
       "      <td>208320.0</td>\n",
       "    </tr>\n",
       "    <tr>\n",
       "      <th>2015</th>\n",
       "      <td>1.568238e+08</td>\n",
       "      <td>751.327524</td>\n",
       "      <td>189600.0</td>\n",
       "    </tr>\n",
       "    <tr>\n",
       "      <th>2016</th>\n",
       "      <td>1.659139e+08</td>\n",
       "      <td>825.351845</td>\n",
       "      <td>184500.0</td>\n",
       "    </tr>\n",
       "    <tr>\n",
       "      <th>2017</th>\n",
       "      <td>1.231230e+08</td>\n",
       "      <td>815.610901</td>\n",
       "      <td>79900.0</td>\n",
       "    </tr>\n",
       "  </tbody>\n",
       "</table>\n",
       "</div>"
      ],
      "text/plain": [
       "               sum        mean       max\n",
       "year                                    \n",
       "2009  9.078889e+07  528.020416  122850.0\n",
       "2010  1.203424e+08  589.050156  141000.0\n",
       "2011  1.237837e+08  580.111752  197000.0\n",
       "2012  1.227342e+08  622.955916  215000.0\n",
       "2013  1.309542e+08  674.475887  197370.0\n",
       "2014  1.410440e+08  819.337484  208320.0\n",
       "2015  1.568238e+08  751.327524  189600.0\n",
       "2016  1.659139e+08  825.351845  184500.0\n",
       "2017  1.231230e+08  815.610901   79900.0"
      ]
     },
     "execution_count": 4,
     "metadata": {},
     "output_type": "execute_result"
    }
   ],
   "source": [
    "sum_mean_max_year = df_chamber.groupby(\"year\")[att].agg(['sum', 'mean', 'max'])\n",
    "sum_mean_max_year"
   ]
  },
  {
   "cell_type": "code",
   "execution_count": 5,
   "metadata": {
    "collapsed": true
   },
   "outputs": [],
   "source": [
    "with open('sum_mean_max_year.json', 'w') as f: \n",
    "    f.write(sum_mean_max_year.reset_index().to_json(orient='records', lines=True))"
   ]
  },
  {
   "cell_type": "markdown",
   "metadata": {},
   "source": [
    "**Vamos também descobrir soma, média e máximo totais:**"
   ]
  },
  {
   "cell_type": "code",
   "execution_count": null,
   "metadata": {},
   "outputs": [],
   "source": [
    "df_chamber[att].agg(['sum', 'mean', 'max'])"
   ]
  },
  {
   "cell_type": "markdown",
   "metadata": {},
   "source": [
    "**Vamos pegar a soma dos gastos por deputado por ano**\n"
   ]
  },
  {
   "cell_type": "code",
   "execution_count": 6,
   "metadata": {
    "scrolled": true
   },
   "outputs": [
    {
     "data": {
      "text/html": [
       "<div>\n",
       "<style>\n",
       "    .dataframe thead tr:only-child th {\n",
       "        text-align: right;\n",
       "    }\n",
       "\n",
       "    .dataframe thead th {\n",
       "        text-align: left;\n",
       "    }\n",
       "\n",
       "    .dataframe tbody tr th {\n",
       "        vertical-align: top;\n",
       "    }\n",
       "</style>\n",
       "<table border=\"1\" class=\"dataframe\">\n",
       "  <thead>\n",
       "    <tr style=\"text-align: right;\">\n",
       "      <th></th>\n",
       "      <th>year</th>\n",
       "      <th>congressperson_name</th>\n",
       "      <th>sum</th>\n",
       "      <th>mean</th>\n",
       "      <th>max</th>\n",
       "    </tr>\n",
       "  </thead>\n",
       "  <tbody>\n",
       "    <tr>\n",
       "      <th>0</th>\n",
       "      <td>2009</td>\n",
       "      <td>ABELARDO CAMARINHA</td>\n",
       "      <td>178115.05</td>\n",
       "      <td>5238.677941</td>\n",
       "      <td>10000.0</td>\n",
       "    </tr>\n",
       "    <tr>\n",
       "      <th>1</th>\n",
       "      <td>2009</td>\n",
       "      <td>ABELARDO LUPION</td>\n",
       "      <td>217827.00</td>\n",
       "      <td>316.609012</td>\n",
       "      <td>10800.0</td>\n",
       "    </tr>\n",
       "    <tr>\n",
       "      <th>2</th>\n",
       "      <td>2009</td>\n",
       "      <td>ACÉLIO CASAGRANDE</td>\n",
       "      <td>181243.42</td>\n",
       "      <td>341.968717</td>\n",
       "      <td>8000.0</td>\n",
       "    </tr>\n",
       "    <tr>\n",
       "      <th>3</th>\n",
       "      <td>2009</td>\n",
       "      <td>ADEMIR CAMILO</td>\n",
       "      <td>191777.41</td>\n",
       "      <td>639.258033</td>\n",
       "      <td>6720.0</td>\n",
       "    </tr>\n",
       "    <tr>\n",
       "      <th>4</th>\n",
       "      <td>2009</td>\n",
       "      <td>ADÃO PRETTO</td>\n",
       "      <td>11994.60</td>\n",
       "      <td>11994.600000</td>\n",
       "      <td>11994.6</td>\n",
       "    </tr>\n",
       "    <tr>\n",
       "      <th>5</th>\n",
       "      <td>2009</td>\n",
       "      <td>AELTON FREITAS</td>\n",
       "      <td>194268.45</td>\n",
       "      <td>332.082821</td>\n",
       "      <td>12000.0</td>\n",
       "    </tr>\n",
       "    <tr>\n",
       "      <th>6</th>\n",
       "      <td>2009</td>\n",
       "      <td>AFFONSO CAMARGO</td>\n",
       "      <td>139370.75</td>\n",
       "      <td>316.033447</td>\n",
       "      <td>8300.0</td>\n",
       "    </tr>\n",
       "    <tr>\n",
       "      <th>7</th>\n",
       "      <td>2009</td>\n",
       "      <td>AFONSO HAMM</td>\n",
       "      <td>170882.12</td>\n",
       "      <td>177.447684</td>\n",
       "      <td>8278.0</td>\n",
       "    </tr>\n",
       "    <tr>\n",
       "      <th>8</th>\n",
       "      <td>2009</td>\n",
       "      <td>AIRTON ROVEDA</td>\n",
       "      <td>195256.70</td>\n",
       "      <td>1243.673248</td>\n",
       "      <td>10080.0</td>\n",
       "    </tr>\n",
       "    <tr>\n",
       "      <th>9</th>\n",
       "      <td>2009</td>\n",
       "      <td>ALBANO FRANCO</td>\n",
       "      <td>144519.71</td>\n",
       "      <td>1537.443723</td>\n",
       "      <td>5000.0</td>\n",
       "    </tr>\n",
       "    <tr>\n",
       "      <th>10</th>\n",
       "      <td>2009</td>\n",
       "      <td>ALBERTO SILVA</td>\n",
       "      <td>109251.71</td>\n",
       "      <td>3641.723667</td>\n",
       "      <td>28200.0</td>\n",
       "    </tr>\n",
       "    <tr>\n",
       "      <th>11</th>\n",
       "      <td>2009</td>\n",
       "      <td>ALBÉRICO FILHO</td>\n",
       "      <td>100003.69</td>\n",
       "      <td>751.907444</td>\n",
       "      <td>9860.0</td>\n",
       "    </tr>\n",
       "    <tr>\n",
       "      <th>12</th>\n",
       "      <td>2009</td>\n",
       "      <td>ALCENI GUERRA</td>\n",
       "      <td>131010.78</td>\n",
       "      <td>206.968057</td>\n",
       "      <td>18000.0</td>\n",
       "    </tr>\n",
       "    <tr>\n",
       "      <th>13</th>\n",
       "      <td>2009</td>\n",
       "      <td>ALDO REBELO</td>\n",
       "      <td>220003.56</td>\n",
       "      <td>635.848439</td>\n",
       "      <td>40000.0</td>\n",
       "    </tr>\n",
       "    <tr>\n",
       "      <th>14</th>\n",
       "      <td>2009</td>\n",
       "      <td>ALEX CANZIANI</td>\n",
       "      <td>173954.73</td>\n",
       "      <td>861.162030</td>\n",
       "      <td>23320.0</td>\n",
       "    </tr>\n",
       "    <tr>\n",
       "      <th>15</th>\n",
       "      <td>2009</td>\n",
       "      <td>ALEXANDRE SANTOS</td>\n",
       "      <td>121206.49</td>\n",
       "      <td>2244.564630</td>\n",
       "      <td>12000.0</td>\n",
       "    </tr>\n",
       "    <tr>\n",
       "      <th>16</th>\n",
       "      <td>2009</td>\n",
       "      <td>ALEXANDRE SILVEIRA</td>\n",
       "      <td>200007.06</td>\n",
       "      <td>826.475455</td>\n",
       "      <td>29000.0</td>\n",
       "    </tr>\n",
       "    <tr>\n",
       "      <th>17</th>\n",
       "      <td>2009</td>\n",
       "      <td>ALFREDO KAEFER</td>\n",
       "      <td>121528.47</td>\n",
       "      <td>226.732220</td>\n",
       "      <td>5000.0</td>\n",
       "    </tr>\n",
       "    <tr>\n",
       "      <th>18</th>\n",
       "      <td>2009</td>\n",
       "      <td>ALICE PORTUGAL</td>\n",
       "      <td>154167.87</td>\n",
       "      <td>637.057314</td>\n",
       "      <td>8500.0</td>\n",
       "    </tr>\n",
       "    <tr>\n",
       "      <th>19</th>\n",
       "      <td>2009</td>\n",
       "      <td>ALINE CORRÊA</td>\n",
       "      <td>172057.35</td>\n",
       "      <td>1445.860084</td>\n",
       "      <td>15350.0</td>\n",
       "    </tr>\n",
       "    <tr>\n",
       "      <th>20</th>\n",
       "      <td>2009</td>\n",
       "      <td>ANA ARRAES</td>\n",
       "      <td>138278.36</td>\n",
       "      <td>271.666719</td>\n",
       "      <td>3000.0</td>\n",
       "    </tr>\n",
       "    <tr>\n",
       "      <th>21</th>\n",
       "      <td>2009</td>\n",
       "      <td>ANDRE VARGAS</td>\n",
       "      <td>185327.35</td>\n",
       "      <td>378.992536</td>\n",
       "      <td>6970.0</td>\n",
       "    </tr>\n",
       "    <tr>\n",
       "      <th>22</th>\n",
       "      <td>2009</td>\n",
       "      <td>ANDREIA ZITO</td>\n",
       "      <td>143440.72</td>\n",
       "      <td>459.745897</td>\n",
       "      <td>7850.0</td>\n",
       "    </tr>\n",
       "    <tr>\n",
       "      <th>23</th>\n",
       "      <td>2009</td>\n",
       "      <td>ANDRÉ DE PAULA</td>\n",
       "      <td>243826.94</td>\n",
       "      <td>1729.269078</td>\n",
       "      <td>10100.0</td>\n",
       "    </tr>\n",
       "    <tr>\n",
       "      <th>24</th>\n",
       "      <td>2009</td>\n",
       "      <td>ANDRÉ ZACHAROW</td>\n",
       "      <td>213095.20</td>\n",
       "      <td>448.621474</td>\n",
       "      <td>16000.0</td>\n",
       "    </tr>\n",
       "    <tr>\n",
       "      <th>25</th>\n",
       "      <td>2009</td>\n",
       "      <td>ANGELA AMIN</td>\n",
       "      <td>148722.22</td>\n",
       "      <td>261.374728</td>\n",
       "      <td>2870.0</td>\n",
       "    </tr>\n",
       "    <tr>\n",
       "      <th>26</th>\n",
       "      <td>2009</td>\n",
       "      <td>ANGELA PORTELA</td>\n",
       "      <td>209549.77</td>\n",
       "      <td>1775.845508</td>\n",
       "      <td>15000.0</td>\n",
       "    </tr>\n",
       "    <tr>\n",
       "      <th>27</th>\n",
       "      <td>2009</td>\n",
       "      <td>ANGELO VANHONI</td>\n",
       "      <td>158615.49</td>\n",
       "      <td>1289.556829</td>\n",
       "      <td>15000.0</td>\n",
       "    </tr>\n",
       "    <tr>\n",
       "      <th>28</th>\n",
       "      <td>2009</td>\n",
       "      <td>ANSELMO DE JESUS</td>\n",
       "      <td>259531.31</td>\n",
       "      <td>578.020735</td>\n",
       "      <td>19956.4</td>\n",
       "    </tr>\n",
       "    <tr>\n",
       "      <th>29</th>\n",
       "      <td>2009</td>\n",
       "      <td>ANTONIO BULHÕES</td>\n",
       "      <td>211585.21</td>\n",
       "      <td>378.506637</td>\n",
       "      <td>8100.0</td>\n",
       "    </tr>\n",
       "    <tr>\n",
       "      <th>...</th>\n",
       "      <td>...</td>\n",
       "      <td>...</td>\n",
       "      <td>...</td>\n",
       "      <td>...</td>\n",
       "      <td>...</td>\n",
       "    </tr>\n",
       "    <tr>\n",
       "      <th>5382</th>\n",
       "      <td>2017</td>\n",
       "      <td>VICENTINHO JÚNIOR</td>\n",
       "      <td>336361.08</td>\n",
       "      <td>1716.127959</td>\n",
       "      <td>30000.0</td>\n",
       "    </tr>\n",
       "    <tr>\n",
       "      <th>5383</th>\n",
       "      <td>2017</td>\n",
       "      <td>VICTOR MENDES</td>\n",
       "      <td>379115.42</td>\n",
       "      <td>3082.239187</td>\n",
       "      <td>25235.0</td>\n",
       "    </tr>\n",
       "    <tr>\n",
       "      <th>5384</th>\n",
       "      <td>2017</td>\n",
       "      <td>VINICIUS CARVALHO</td>\n",
       "      <td>185643.66</td>\n",
       "      <td>428.738245</td>\n",
       "      <td>12000.0</td>\n",
       "    </tr>\n",
       "    <tr>\n",
       "      <th>5385</th>\n",
       "      <td>2017</td>\n",
       "      <td>VINICIUS GURGEL</td>\n",
       "      <td>323400.00</td>\n",
       "      <td>6219.230769</td>\n",
       "      <td>30000.0</td>\n",
       "    </tr>\n",
       "    <tr>\n",
       "      <th>5386</th>\n",
       "      <td>2017</td>\n",
       "      <td>VITOR LIPPI</td>\n",
       "      <td>221450.56</td>\n",
       "      <td>298.049206</td>\n",
       "      <td>6415.0</td>\n",
       "    </tr>\n",
       "    <tr>\n",
       "      <th>5387</th>\n",
       "      <td>2017</td>\n",
       "      <td>VITOR VALIM</td>\n",
       "      <td>165714.14</td>\n",
       "      <td>1801.240652</td>\n",
       "      <td>5000.0</td>\n",
       "    </tr>\n",
       "    <tr>\n",
       "      <th>5388</th>\n",
       "      <td>2017</td>\n",
       "      <td>WADIH DAMOUS</td>\n",
       "      <td>157170.48</td>\n",
       "      <td>1147.229781</td>\n",
       "      <td>8000.0</td>\n",
       "    </tr>\n",
       "    <tr>\n",
       "      <th>5389</th>\n",
       "      <td>2017</td>\n",
       "      <td>WALDENOR PEREIRA</td>\n",
       "      <td>238733.53</td>\n",
       "      <td>904.293674</td>\n",
       "      <td>9100.0</td>\n",
       "    </tr>\n",
       "    <tr>\n",
       "      <th>5390</th>\n",
       "      <td>2017</td>\n",
       "      <td>WALDIR MARANHÃO</td>\n",
       "      <td>62000.00</td>\n",
       "      <td>10333.333333</td>\n",
       "      <td>15000.0</td>\n",
       "    </tr>\n",
       "    <tr>\n",
       "      <th>5391</th>\n",
       "      <td>2017</td>\n",
       "      <td>WALNEY ROCHA</td>\n",
       "      <td>257661.71</td>\n",
       "      <td>657.300281</td>\n",
       "      <td>15000.0</td>\n",
       "    </tr>\n",
       "    <tr>\n",
       "      <th>5392</th>\n",
       "      <td>2017</td>\n",
       "      <td>WALTER ALVES</td>\n",
       "      <td>296261.21</td>\n",
       "      <td>2332.765433</td>\n",
       "      <td>12000.0</td>\n",
       "    </tr>\n",
       "    <tr>\n",
       "      <th>5393</th>\n",
       "      <td>2017</td>\n",
       "      <td>WALTER IHOSHI</td>\n",
       "      <td>247103.10</td>\n",
       "      <td>1205.380976</td>\n",
       "      <td>8000.0</td>\n",
       "    </tr>\n",
       "    <tr>\n",
       "      <th>5394</th>\n",
       "      <td>2017</td>\n",
       "      <td>WELITON PRADO</td>\n",
       "      <td>251904.08</td>\n",
       "      <td>1447.724598</td>\n",
       "      <td>19250.0</td>\n",
       "    </tr>\n",
       "    <tr>\n",
       "      <th>5395</th>\n",
       "      <td>2017</td>\n",
       "      <td>WELLINGTON ROBERTO</td>\n",
       "      <td>278594.08</td>\n",
       "      <td>1629.205146</td>\n",
       "      <td>25000.0</td>\n",
       "    </tr>\n",
       "    <tr>\n",
       "      <th>5396</th>\n",
       "      <td>2017</td>\n",
       "      <td>WEVERTON ROCHA</td>\n",
       "      <td>285939.09</td>\n",
       "      <td>1021.211036</td>\n",
       "      <td>18240.0</td>\n",
       "    </tr>\n",
       "    <tr>\n",
       "      <th>5397</th>\n",
       "      <td>2017</td>\n",
       "      <td>WILSON BESERRA</td>\n",
       "      <td>189177.11</td>\n",
       "      <td>384.506321</td>\n",
       "      <td>14000.0</td>\n",
       "    </tr>\n",
       "    <tr>\n",
       "      <th>5398</th>\n",
       "      <td>2017</td>\n",
       "      <td>WILSON FILHO</td>\n",
       "      <td>241633.89</td>\n",
       "      <td>1019.552278</td>\n",
       "      <td>9435.0</td>\n",
       "    </tr>\n",
       "    <tr>\n",
       "      <th>5399</th>\n",
       "      <td>2017</td>\n",
       "      <td>WLADIMIR COSTA</td>\n",
       "      <td>168447.53</td>\n",
       "      <td>5433.791290</td>\n",
       "      <td>19800.0</td>\n",
       "    </tr>\n",
       "    <tr>\n",
       "      <th>5400</th>\n",
       "      <td>2017</td>\n",
       "      <td>WOLNEY QUEIROZ</td>\n",
       "      <td>220831.40</td>\n",
       "      <td>1077.226341</td>\n",
       "      <td>18000.0</td>\n",
       "    </tr>\n",
       "    <tr>\n",
       "      <th>5401</th>\n",
       "      <td>2017</td>\n",
       "      <td>YEDA CRUSIUS</td>\n",
       "      <td>106931.77</td>\n",
       "      <td>774.867899</td>\n",
       "      <td>5000.0</td>\n",
       "    </tr>\n",
       "    <tr>\n",
       "      <th>5402</th>\n",
       "      <td>2017</td>\n",
       "      <td>ZECA CAVALCANTI</td>\n",
       "      <td>359808.87</td>\n",
       "      <td>1864.294663</td>\n",
       "      <td>27990.0</td>\n",
       "    </tr>\n",
       "    <tr>\n",
       "      <th>5403</th>\n",
       "      <td>2017</td>\n",
       "      <td>ZECA DIRCEU</td>\n",
       "      <td>258218.49</td>\n",
       "      <td>209.763193</td>\n",
       "      <td>9000.0</td>\n",
       "    </tr>\n",
       "    <tr>\n",
       "      <th>5404</th>\n",
       "      <td>2017</td>\n",
       "      <td>ZECA DO PT</td>\n",
       "      <td>315393.18</td>\n",
       "      <td>1365.338442</td>\n",
       "      <td>12600.0</td>\n",
       "    </tr>\n",
       "    <tr>\n",
       "      <th>5405</th>\n",
       "      <td>2017</td>\n",
       "      <td>ZENAIDE MAIA</td>\n",
       "      <td>361026.27</td>\n",
       "      <td>1510.570167</td>\n",
       "      <td>16800.0</td>\n",
       "    </tr>\n",
       "    <tr>\n",
       "      <th>5406</th>\n",
       "      <td>2017</td>\n",
       "      <td>ZÉ AUGUSTO NALIN</td>\n",
       "      <td>86674.60</td>\n",
       "      <td>1203.813889</td>\n",
       "      <td>7400.0</td>\n",
       "    </tr>\n",
       "    <tr>\n",
       "      <th>5407</th>\n",
       "      <td>2017</td>\n",
       "      <td>ZÉ CARLOS</td>\n",
       "      <td>232559.06</td>\n",
       "      <td>506.664619</td>\n",
       "      <td>9500.0</td>\n",
       "    </tr>\n",
       "    <tr>\n",
       "      <th>5408</th>\n",
       "      <td>2017</td>\n",
       "      <td>ZÉ GERALDO</td>\n",
       "      <td>234311.12</td>\n",
       "      <td>9762.963333</td>\n",
       "      <td>45000.0</td>\n",
       "    </tr>\n",
       "    <tr>\n",
       "      <th>5409</th>\n",
       "      <td>2017</td>\n",
       "      <td>ZÉ SILVA</td>\n",
       "      <td>246736.43</td>\n",
       "      <td>323.376710</td>\n",
       "      <td>30000.0</td>\n",
       "    </tr>\n",
       "    <tr>\n",
       "      <th>5410</th>\n",
       "      <td>2017</td>\n",
       "      <td>ÁTILA LINS</td>\n",
       "      <td>290238.05</td>\n",
       "      <td>6910.429762</td>\n",
       "      <td>27300.0</td>\n",
       "    </tr>\n",
       "    <tr>\n",
       "      <th>5411</th>\n",
       "      <td>2017</td>\n",
       "      <td>ÁTILA LIRA</td>\n",
       "      <td>233850.76</td>\n",
       "      <td>2315.354059</td>\n",
       "      <td>9800.0</td>\n",
       "    </tr>\n",
       "  </tbody>\n",
       "</table>\n",
       "<p>5412 rows × 5 columns</p>\n",
       "</div>"
      ],
      "text/plain": [
       "      year congressperson_name        sum          mean      max\n",
       "0     2009  ABELARDO CAMARINHA  178115.05   5238.677941  10000.0\n",
       "1     2009     ABELARDO LUPION  217827.00    316.609012  10800.0\n",
       "2     2009   ACÉLIO CASAGRANDE  181243.42    341.968717   8000.0\n",
       "3     2009       ADEMIR CAMILO  191777.41    639.258033   6720.0\n",
       "4     2009         ADÃO PRETTO   11994.60  11994.600000  11994.6\n",
       "5     2009      AELTON FREITAS  194268.45    332.082821  12000.0\n",
       "6     2009     AFFONSO CAMARGO  139370.75    316.033447   8300.0\n",
       "7     2009         AFONSO HAMM  170882.12    177.447684   8278.0\n",
       "8     2009       AIRTON ROVEDA  195256.70   1243.673248  10080.0\n",
       "9     2009       ALBANO FRANCO  144519.71   1537.443723   5000.0\n",
       "10    2009       ALBERTO SILVA  109251.71   3641.723667  28200.0\n",
       "11    2009      ALBÉRICO FILHO  100003.69    751.907444   9860.0\n",
       "12    2009       ALCENI GUERRA  131010.78    206.968057  18000.0\n",
       "13    2009         ALDO REBELO  220003.56    635.848439  40000.0\n",
       "14    2009       ALEX CANZIANI  173954.73    861.162030  23320.0\n",
       "15    2009    ALEXANDRE SANTOS  121206.49   2244.564630  12000.0\n",
       "16    2009  ALEXANDRE SILVEIRA  200007.06    826.475455  29000.0\n",
       "17    2009      ALFREDO KAEFER  121528.47    226.732220   5000.0\n",
       "18    2009      ALICE PORTUGAL  154167.87    637.057314   8500.0\n",
       "19    2009        ALINE CORRÊA  172057.35   1445.860084  15350.0\n",
       "20    2009          ANA ARRAES  138278.36    271.666719   3000.0\n",
       "21    2009        ANDRE VARGAS  185327.35    378.992536   6970.0\n",
       "22    2009        ANDREIA ZITO  143440.72    459.745897   7850.0\n",
       "23    2009      ANDRÉ DE PAULA  243826.94   1729.269078  10100.0\n",
       "24    2009      ANDRÉ ZACHAROW  213095.20    448.621474  16000.0\n",
       "25    2009         ANGELA AMIN  148722.22    261.374728   2870.0\n",
       "26    2009      ANGELA PORTELA  209549.77   1775.845508  15000.0\n",
       "27    2009      ANGELO VANHONI  158615.49   1289.556829  15000.0\n",
       "28    2009    ANSELMO DE JESUS  259531.31    578.020735  19956.4\n",
       "29    2009     ANTONIO BULHÕES  211585.21    378.506637   8100.0\n",
       "...    ...                 ...        ...           ...      ...\n",
       "5382  2017   VICENTINHO JÚNIOR  336361.08   1716.127959  30000.0\n",
       "5383  2017       VICTOR MENDES  379115.42   3082.239187  25235.0\n",
       "5384  2017   VINICIUS CARVALHO  185643.66    428.738245  12000.0\n",
       "5385  2017     VINICIUS GURGEL  323400.00   6219.230769  30000.0\n",
       "5386  2017         VITOR LIPPI  221450.56    298.049206   6415.0\n",
       "5387  2017         VITOR VALIM  165714.14   1801.240652   5000.0\n",
       "5388  2017        WADIH DAMOUS  157170.48   1147.229781   8000.0\n",
       "5389  2017    WALDENOR PEREIRA  238733.53    904.293674   9100.0\n",
       "5390  2017     WALDIR MARANHÃO   62000.00  10333.333333  15000.0\n",
       "5391  2017        WALNEY ROCHA  257661.71    657.300281  15000.0\n",
       "5392  2017        WALTER ALVES  296261.21   2332.765433  12000.0\n",
       "5393  2017       WALTER IHOSHI  247103.10   1205.380976   8000.0\n",
       "5394  2017       WELITON PRADO  251904.08   1447.724598  19250.0\n",
       "5395  2017  WELLINGTON ROBERTO  278594.08   1629.205146  25000.0\n",
       "5396  2017      WEVERTON ROCHA  285939.09   1021.211036  18240.0\n",
       "5397  2017      WILSON BESERRA  189177.11    384.506321  14000.0\n",
       "5398  2017        WILSON FILHO  241633.89   1019.552278   9435.0\n",
       "5399  2017      WLADIMIR COSTA  168447.53   5433.791290  19800.0\n",
       "5400  2017      WOLNEY QUEIROZ  220831.40   1077.226341  18000.0\n",
       "5401  2017        YEDA CRUSIUS  106931.77    774.867899   5000.0\n",
       "5402  2017     ZECA CAVALCANTI  359808.87   1864.294663  27990.0\n",
       "5403  2017         ZECA DIRCEU  258218.49    209.763193   9000.0\n",
       "5404  2017          ZECA DO PT  315393.18   1365.338442  12600.0\n",
       "5405  2017        ZENAIDE MAIA  361026.27   1510.570167  16800.0\n",
       "5406  2017    ZÉ AUGUSTO NALIN   86674.60   1203.813889   7400.0\n",
       "5407  2017           ZÉ CARLOS  232559.06    506.664619   9500.0\n",
       "5408  2017          ZÉ GERALDO  234311.12   9762.963333  45000.0\n",
       "5409  2017            ZÉ SILVA  246736.43    323.376710  30000.0\n",
       "5410  2017          ÁTILA LINS  290238.05   6910.429762  27300.0\n",
       "5411  2017          ÁTILA LIRA  233850.76   2315.354059   9800.0\n",
       "\n",
       "[5412 rows x 5 columns]"
      ]
     },
     "execution_count": 6,
     "metadata": {},
     "output_type": "execute_result"
    }
   ],
   "source": [
    "df_cp_year = df_chamber.groupby([\"year\", \"congressperson_name\"])[att].agg(['sum', 'mean', 'max']).reset_index()\n",
    "df_cp_year\n",
    "# DARLEY"
   ]
  },
  {
   "cell_type": "code",
   "execution_count": 7,
   "metadata": {
    "collapsed": true
   },
   "outputs": [],
   "source": [
    "with open('./json_files/chamber/sum_mean_max_year_congressperson_each.json', 'w',encoding=\"utf8\") as f:\n",
    "    f.write(df_cp_year.to_json(orient='records', lines=True) + \"\\n\")"
   ]
  },
  {
   "cell_type": "markdown",
   "metadata": {},
   "source": [
    "**Agora vamos descobrir quem são os responsáveis pelo maior gasto em cada ano:**"
   ]
  },
  {
   "cell_type": "code",
   "execution_count": null,
   "metadata": {
    "collapsed": true
   },
   "outputs": [],
   "source": [
    "# df_cp_year = df_chamber.groupby([\"congressperson_name\", \"year\"])[att].agg(['sum', 'mean', 'max']).reset_index()"
   ]
  },
  {
   "cell_type": "code",
   "execution_count": 8,
   "metadata": {
    "collapsed": true
   },
   "outputs": [],
   "source": [
    "sum_years = df_cp_year.groupby(\"year\")['sum'].max()"
   ]
  },
  {
   "cell_type": "code",
   "execution_count": 9,
   "metadata": {
    "collapsed": true
   },
   "outputs": [],
   "source": [
    "sum_2009 = df_cp_year[(df_cp_year['year'] == 2009) & (df_cp_year['sum'] == sum_years[2009])]\n",
    "sum_2010 = df_cp_year[(df_cp_year['year'] == 2010) & (df_cp_year['sum'] == sum_years[2010])]\n",
    "sum_2011 = df_cp_year[(df_cp_year['year'] == 2011) & (df_cp_year['sum'] == sum_years[2011])]\n",
    "sum_2012 = df_cp_year[(df_cp_year['year'] == 2012) & (df_cp_year['sum'] == sum_years[2012])]\n",
    "sum_2013 = df_cp_year[(df_cp_year['year'] == 2013) & (df_cp_year['sum'] == sum_years[2013])]\n",
    "sum_2014 = df_cp_year[(df_cp_year['year'] == 2014) & (df_cp_year['sum'] == sum_years[2014])]\n",
    "sum_2015 = df_cp_year[(df_cp_year['year'] == 2015) & (df_cp_year['sum'] == sum_years[2015])]\n",
    "sum_2016 = df_cp_year[(df_cp_year['year'] == 2016) & (df_cp_year['sum'] == sum_years[2016])]\n",
    "sum_2017 = df_cp_year[(df_cp_year['year'] == 2017) & (df_cp_year['sum'] == sum_years[2017])]"
   ]
  },
  {
   "cell_type": "code",
   "execution_count": 10,
   "metadata": {},
   "outputs": [
    {
     "data": {
      "text/html": [
       "<div>\n",
       "<style>\n",
       "    .dataframe thead tr:only-child th {\n",
       "        text-align: right;\n",
       "    }\n",
       "\n",
       "    .dataframe thead th {\n",
       "        text-align: left;\n",
       "    }\n",
       "\n",
       "    .dataframe tbody tr th {\n",
       "        vertical-align: top;\n",
       "    }\n",
       "</style>\n",
       "<table border=\"1\" class=\"dataframe\">\n",
       "  <thead>\n",
       "    <tr style=\"text-align: right;\">\n",
       "      <th></th>\n",
       "      <th>year</th>\n",
       "      <th>congressperson_name</th>\n",
       "      <th>sum</th>\n",
       "      <th>mean</th>\n",
       "      <th>max</th>\n",
       "    </tr>\n",
       "  </thead>\n",
       "  <tbody>\n",
       "    <tr>\n",
       "      <th>520</th>\n",
       "      <td>2009</td>\n",
       "      <td>WELLINGTON ROBERTO</td>\n",
       "      <td>321864.66</td>\n",
       "      <td>12379.41</td>\n",
       "      <td>71400.0</td>\n",
       "    </tr>\n",
       "  </tbody>\n",
       "</table>\n",
       "</div>"
      ],
      "text/plain": [
       "     year congressperson_name        sum      mean      max\n",
       "520  2009  WELLINGTON ROBERTO  321864.66  12379.41  71400.0"
      ]
     },
     "execution_count": 10,
     "metadata": {},
     "output_type": "execute_result"
    }
   ],
   "source": [
    "sum_2009"
   ]
  },
  {
   "cell_type": "code",
   "execution_count": null,
   "metadata": {},
   "outputs": [],
   "source": [
    "sum_2010"
   ]
  },
  {
   "cell_type": "code",
   "execution_count": null,
   "metadata": {},
   "outputs": [],
   "source": [
    "sum_2011"
   ]
  },
  {
   "cell_type": "code",
   "execution_count": null,
   "metadata": {},
   "outputs": [],
   "source": [
    "sum_2012"
   ]
  },
  {
   "cell_type": "code",
   "execution_count": null,
   "metadata": {},
   "outputs": [],
   "source": [
    "sum_2013"
   ]
  },
  {
   "cell_type": "code",
   "execution_count": null,
   "metadata": {},
   "outputs": [],
   "source": [
    "sum_2014"
   ]
  },
  {
   "cell_type": "code",
   "execution_count": null,
   "metadata": {},
   "outputs": [],
   "source": [
    "sum_2015"
   ]
  },
  {
   "cell_type": "code",
   "execution_count": null,
   "metadata": {},
   "outputs": [],
   "source": [
    "sum_2016"
   ]
  },
  {
   "cell_type": "code",
   "execution_count": null,
   "metadata": {},
   "outputs": [],
   "source": [
    "sum_2017"
   ]
  },
  {
   "cell_type": "code",
   "execution_count": null,
   "metadata": {
    "collapsed": true
   },
   "outputs": [],
   "source": [
    "# with open('sum_mean_max_year_congressperson_maxtotal.json', 'w',encoding=\"utf8\") as f:\n",
    "#     for df in [sum_2009,sum_2010,sum_2011,sum_2012,sum_2013,sum_2014,sum_2015,sum_2016,sum_2017]:\n",
    "#         f.write(df.to_json(orient='records', lines=True) + \"\\n\")"
   ]
  },
  {
   "cell_type": "markdown",
   "metadata": {},
   "source": [
    "**Vamos descobrir agora quem são os reponsáveis pelos maiores gastos na média em cada ano:**"
   ]
  },
  {
   "cell_type": "code",
   "execution_count": null,
   "metadata": {
    "collapsed": true
   },
   "outputs": [],
   "source": [
    "mean_max_year = df_cp_year.groupby(\"year\")['mean'].max()"
   ]
  },
  {
   "cell_type": "code",
   "execution_count": null,
   "metadata": {},
   "outputs": [],
   "source": [
    "mean_max_year"
   ]
  },
  {
   "cell_type": "code",
   "execution_count": null,
   "metadata": {
    "collapsed": true
   },
   "outputs": [],
   "source": [
    "mean_2009 = df_cp_year[(df_cp_year['year'] == 2009) & (df_cp_year['mean'] == mean_max_year[2009])]\n",
    "mean_2010 = df_cp_year[(df_cp_year['year'] == 2010) & (df_cp_year['mean'] == mean_max_year[2010])]\n",
    "mean_2011 = df_cp_year[(df_cp_year['year'] == 2011) & (df_cp_year['mean'] == mean_max_year[2011])]\n",
    "mean_2012 = df_cp_year[(df_cp_year['year'] == 2012) & (df_cp_year['mean'] == mean_max_year[2012])]\n",
    "mean_2013 = df_cp_year[(df_cp_year['year'] == 2013) & (df_cp_year['mean'] == mean_max_year[2013])]\n",
    "mean_2014 = df_cp_year[(df_cp_year['year'] == 2014) & (df_cp_year['mean'] == mean_max_year[2014])]\n",
    "mean_2015 = df_cp_year[(df_cp_year['year'] == 2015) & (df_cp_year['mean'] == mean_max_year[2015])]\n",
    "mean_2016 = df_cp_year[(df_cp_year['year'] == 2016) & (df_cp_year['mean'] == mean_max_year[2016])]\n",
    "mean_2017 = df_cp_year[(df_cp_year['year'] == 2017) & (df_cp_year['mean'] == mean_max_year[2017])]"
   ]
  },
  {
   "cell_type": "code",
   "execution_count": null,
   "metadata": {},
   "outputs": [],
   "source": [
    "mean_2009"
   ]
  },
  {
   "cell_type": "code",
   "execution_count": null,
   "metadata": {},
   "outputs": [],
   "source": [
    "mean_2010"
   ]
  },
  {
   "cell_type": "code",
   "execution_count": null,
   "metadata": {},
   "outputs": [],
   "source": [
    "mean_2011"
   ]
  },
  {
   "cell_type": "code",
   "execution_count": null,
   "metadata": {},
   "outputs": [],
   "source": [
    "mean_2012"
   ]
  },
  {
   "cell_type": "code",
   "execution_count": null,
   "metadata": {},
   "outputs": [],
   "source": [
    "mean_2013"
   ]
  },
  {
   "cell_type": "code",
   "execution_count": null,
   "metadata": {},
   "outputs": [],
   "source": [
    "mean_2014"
   ]
  },
  {
   "cell_type": "code",
   "execution_count": null,
   "metadata": {},
   "outputs": [],
   "source": [
    "mean_2015"
   ]
  },
  {
   "cell_type": "code",
   "execution_count": null,
   "metadata": {},
   "outputs": [],
   "source": [
    "mean_2016"
   ]
  },
  {
   "cell_type": "code",
   "execution_count": null,
   "metadata": {
    "collapsed": true
   },
   "outputs": [],
   "source": [
    "# with open('spents_categories.json', 'w',encoding=\"utf8\") as f:\n",
    "#     catogories = {str(subquota_number[i]):subquota_description[i] for i in range(len(subquota_number))}\n",
    "#     f.write(json.dumps(catmean_2017))"
   ]
  },
  {
   "cell_type": "code",
   "execution_count": null,
   "metadata": {
    "collapsed": true
   },
   "outputs": [],
   "source": [
    "with open('sum_mean_max_year_congressperson_maxmean.json', 'w',encoding=\"utf8\") as f:\n",
    "    for df in [mean_2009,mean_2010,mean_2011,mean_2012,mean_2013,mean_2014,mean_2015,mean_2016,mean_2017]:\n",
    "        f.write(df.to_json(orient='records', lines=True) + \"\\n\")"
   ]
  },
  {
   "cell_type": "markdown",
   "metadata": {},
   "source": [
    "**Agora vejamos quem são deputados com menores gastos médios:**"
   ]
  },
  {
   "cell_type": "code",
   "execution_count": null,
   "metadata": {
    "collapsed": true
   },
   "outputs": [],
   "source": [
    "mean_min_year = df_cp_year.groupby(\"year\")['mean'].min()"
   ]
  },
  {
   "cell_type": "code",
   "execution_count": null,
   "metadata": {
    "collapsed": true
   },
   "outputs": [],
   "source": [
    "mean_2009 = df_cp_year[(df_cp_year['year'] == 2009) & (df_cp_year['mean'] == mean_min_year[2009])]\n",
    "mean_2010 = df_cp_year[(df_cp_year['year'] == 2010) & (df_cp_year['mean'] == mean_min_year[2010])]\n",
    "mean_2011 = df_cp_year[(df_cp_year['year'] == 2011) & (df_cp_year['mean'] == mean_min_year[2011])]\n",
    "mean_2012 = df_cp_year[(df_cp_year['year'] == 2012) & (df_cp_year['mean'] == mean_min_year[2012])]\n",
    "mean_2013 = df_cp_year[(df_cp_year['year'] == 2013) & (df_cp_year['mean'] == mean_min_year[2013])]\n",
    "mean_2014 = df_cp_year[(df_cp_year['year'] == 2014) & (df_cp_year['mean'] == mean_min_year[2014])]\n",
    "mean_2015 = df_cp_year[(df_cp_year['year'] == 2015) & (df_cp_year['mean'] == mean_min_year[2015])]\n",
    "mean_2016 = df_cp_year[(df_cp_year['year'] == 2016) & (df_cp_year['mean'] == mean_min_year[2016])]\n",
    "mean_2017 = df_cp_year[(df_cp_year['year'] == 2017) & (df_cp_year['mean'] == mean_min_year[2017])]"
   ]
  },
  {
   "cell_type": "code",
   "execution_count": null,
   "metadata": {
    "collapsed": true
   },
   "outputs": [],
   "source": [
    "# with open('sum_mean_max_year_congressperson_minmean.json', 'w',encoding=\"utf8\") as f:\n",
    "#     for df in [mean_2009,mean_2010,mean_2011,mean_2012,mean_2013,mean_2014,mean_2015,mean_2016,mean_2017]:\n",
    "#         f.write(df.to_json(orient='records', lines=True) + \"\\n\")"
   ]
  },
  {
   "cell_type": "code",
   "execution_count": null,
   "metadata": {},
   "outputs": [],
   "source": [
    "mean_2009"
   ]
  },
  {
   "cell_type": "code",
   "execution_count": null,
   "metadata": {},
   "outputs": [],
   "source": [
    "mean_2010"
   ]
  },
  {
   "cell_type": "code",
   "execution_count": null,
   "metadata": {},
   "outputs": [],
   "source": [
    "mean_2011"
   ]
  },
  {
   "cell_type": "code",
   "execution_count": null,
   "metadata": {},
   "outputs": [],
   "source": [
    "mean_2012"
   ]
  },
  {
   "cell_type": "code",
   "execution_count": null,
   "metadata": {},
   "outputs": [],
   "source": [
    "mean_2013"
   ]
  },
  {
   "cell_type": "code",
   "execution_count": null,
   "metadata": {},
   "outputs": [],
   "source": [
    "mean_2014"
   ]
  },
  {
   "cell_type": "code",
   "execution_count": null,
   "metadata": {},
   "outputs": [],
   "source": [
    "mean_2015"
   ]
  },
  {
   "cell_type": "code",
   "execution_count": null,
   "metadata": {},
   "outputs": [],
   "source": [
    "mean_2016"
   ]
  },
  {
   "cell_type": "code",
   "execution_count": null,
   "metadata": {
    "scrolled": false
   },
   "outputs": [],
   "source": [
    "mean_2017"
   ]
  },
  {
   "cell_type": "markdown",
   "metadata": {},
   "source": [
    "**Agora analizemos por partido**\n"
   ]
  },
  {
   "cell_type": "code",
   "execution_count": null,
   "metadata": {},
   "outputs": [],
   "source": [
    "list(df_chamber)"
   ]
  },
  {
   "cell_type": "code",
   "execution_count": 11,
   "metadata": {
    "scrolled": true
   },
   "outputs": [
    {
     "data": {
      "text/html": [
       "<div>\n",
       "<style>\n",
       "    .dataframe thead tr:only-child th {\n",
       "        text-align: right;\n",
       "    }\n",
       "\n",
       "    .dataframe thead th {\n",
       "        text-align: left;\n",
       "    }\n",
       "\n",
       "    .dataframe tbody tr th {\n",
       "        vertical-align: top;\n",
       "    }\n",
       "</style>\n",
       "<table border=\"1\" class=\"dataframe\">\n",
       "  <thead>\n",
       "    <tr style=\"text-align: right;\">\n",
       "      <th></th>\n",
       "      <th>year</th>\n",
       "      <th>party</th>\n",
       "      <th>count</th>\n",
       "    </tr>\n",
       "  </thead>\n",
       "  <tbody>\n",
       "    <tr>\n",
       "      <th>0</th>\n",
       "      <td>2009</td>\n",
       "      <td>AVANTE</td>\n",
       "      <td>2</td>\n",
       "    </tr>\n",
       "    <tr>\n",
       "      <th>1</th>\n",
       "      <td>2009</td>\n",
       "      <td>DEM</td>\n",
       "      <td>40</td>\n",
       "    </tr>\n",
       "    <tr>\n",
       "      <th>2</th>\n",
       "      <td>2009</td>\n",
       "      <td>PCdoB</td>\n",
       "      <td>12</td>\n",
       "    </tr>\n",
       "    <tr>\n",
       "      <th>3</th>\n",
       "      <td>2009</td>\n",
       "      <td>PDT</td>\n",
       "      <td>21</td>\n",
       "    </tr>\n",
       "    <tr>\n",
       "      <th>4</th>\n",
       "      <td>2009</td>\n",
       "      <td>PEN</td>\n",
       "      <td>1</td>\n",
       "    </tr>\n",
       "    <tr>\n",
       "      <th>5</th>\n",
       "      <td>2009</td>\n",
       "      <td>PHS</td>\n",
       "      <td>3</td>\n",
       "    </tr>\n",
       "    <tr>\n",
       "      <th>6</th>\n",
       "      <td>2009</td>\n",
       "      <td>PMDB</td>\n",
       "      <td>91</td>\n",
       "    </tr>\n",
       "    <tr>\n",
       "      <th>7</th>\n",
       "      <td>2009</td>\n",
       "      <td>PMN</td>\n",
       "      <td>2</td>\n",
       "    </tr>\n",
       "    <tr>\n",
       "      <th>8</th>\n",
       "      <td>2009</td>\n",
       "      <td>PODE</td>\n",
       "      <td>2</td>\n",
       "    </tr>\n",
       "    <tr>\n",
       "      <th>9</th>\n",
       "      <td>2009</td>\n",
       "      <td>PP</td>\n",
       "      <td>42</td>\n",
       "    </tr>\n",
       "    <tr>\n",
       "      <th>10</th>\n",
       "      <td>2009</td>\n",
       "      <td>PPS</td>\n",
       "      <td>10</td>\n",
       "    </tr>\n",
       "    <tr>\n",
       "      <th>11</th>\n",
       "      <td>2009</td>\n",
       "      <td>PR</td>\n",
       "      <td>41</td>\n",
       "    </tr>\n",
       "    <tr>\n",
       "      <th>12</th>\n",
       "      <td>2009</td>\n",
       "      <td>PRB</td>\n",
       "      <td>16</td>\n",
       "    </tr>\n",
       "    <tr>\n",
       "      <th>13</th>\n",
       "      <td>2009</td>\n",
       "      <td>PROS</td>\n",
       "      <td>5</td>\n",
       "    </tr>\n",
       "    <tr>\n",
       "      <th>14</th>\n",
       "      <td>2009</td>\n",
       "      <td>PSB</td>\n",
       "      <td>26</td>\n",
       "    </tr>\n",
       "    <tr>\n",
       "      <th>15</th>\n",
       "      <td>2009</td>\n",
       "      <td>PSC</td>\n",
       "      <td>14</td>\n",
       "    </tr>\n",
       "    <tr>\n",
       "      <th>16</th>\n",
       "      <td>2009</td>\n",
       "      <td>PSD</td>\n",
       "      <td>25</td>\n",
       "    </tr>\n",
       "    <tr>\n",
       "      <th>17</th>\n",
       "      <td>2009</td>\n",
       "      <td>PSDB</td>\n",
       "      <td>53</td>\n",
       "    </tr>\n",
       "    <tr>\n",
       "      <th>18</th>\n",
       "      <td>2009</td>\n",
       "      <td>PSL</td>\n",
       "      <td>1</td>\n",
       "    </tr>\n",
       "    <tr>\n",
       "      <th>19</th>\n",
       "      <td>2009</td>\n",
       "      <td>PSOL</td>\n",
       "      <td>6</td>\n",
       "    </tr>\n",
       "    <tr>\n",
       "      <th>20</th>\n",
       "      <td>2009</td>\n",
       "      <td>PT</td>\n",
       "      <td>74</td>\n",
       "    </tr>\n",
       "    <tr>\n",
       "      <th>21</th>\n",
       "      <td>2009</td>\n",
       "      <td>PTB</td>\n",
       "      <td>24</td>\n",
       "    </tr>\n",
       "    <tr>\n",
       "      <th>22</th>\n",
       "      <td>2009</td>\n",
       "      <td>PTC</td>\n",
       "      <td>3</td>\n",
       "    </tr>\n",
       "    <tr>\n",
       "      <th>23</th>\n",
       "      <td>2009</td>\n",
       "      <td>PV</td>\n",
       "      <td>13</td>\n",
       "    </tr>\n",
       "    <tr>\n",
       "      <th>24</th>\n",
       "      <td>2009</td>\n",
       "      <td>S.PART.</td>\n",
       "      <td>2</td>\n",
       "    </tr>\n",
       "    <tr>\n",
       "      <th>25</th>\n",
       "      <td>2009</td>\n",
       "      <td>SD</td>\n",
       "      <td>8</td>\n",
       "    </tr>\n",
       "    <tr>\n",
       "      <th>26</th>\n",
       "      <td>2010</td>\n",
       "      <td>AVANTE</td>\n",
       "      <td>2</td>\n",
       "    </tr>\n",
       "    <tr>\n",
       "      <th>27</th>\n",
       "      <td>2010</td>\n",
       "      <td>DEM</td>\n",
       "      <td>44</td>\n",
       "    </tr>\n",
       "    <tr>\n",
       "      <th>28</th>\n",
       "      <td>2010</td>\n",
       "      <td>PCdoB</td>\n",
       "      <td>12</td>\n",
       "    </tr>\n",
       "    <tr>\n",
       "      <th>29</th>\n",
       "      <td>2010</td>\n",
       "      <td>PDT</td>\n",
       "      <td>19</td>\n",
       "    </tr>\n",
       "    <tr>\n",
       "      <th>...</th>\n",
       "      <td>...</td>\n",
       "      <td>...</td>\n",
       "      <td>...</td>\n",
       "    </tr>\n",
       "    <tr>\n",
       "      <th>215</th>\n",
       "      <td>2016</td>\n",
       "      <td>PT</td>\n",
       "      <td>61</td>\n",
       "    </tr>\n",
       "    <tr>\n",
       "      <th>216</th>\n",
       "      <td>2016</td>\n",
       "      <td>PTB</td>\n",
       "      <td>19</td>\n",
       "    </tr>\n",
       "    <tr>\n",
       "      <th>217</th>\n",
       "      <td>2016</td>\n",
       "      <td>PV</td>\n",
       "      <td>7</td>\n",
       "    </tr>\n",
       "    <tr>\n",
       "      <th>218</th>\n",
       "      <td>2016</td>\n",
       "      <td>REDE</td>\n",
       "      <td>3</td>\n",
       "    </tr>\n",
       "    <tr>\n",
       "      <th>219</th>\n",
       "      <td>2016</td>\n",
       "      <td>SD</td>\n",
       "      <td>14</td>\n",
       "    </tr>\n",
       "    <tr>\n",
       "      <th>220</th>\n",
       "      <td>2017</td>\n",
       "      <td>AVANTE</td>\n",
       "      <td>6</td>\n",
       "    </tr>\n",
       "    <tr>\n",
       "      <th>221</th>\n",
       "      <td>2017</td>\n",
       "      <td>DEM</td>\n",
       "      <td>29</td>\n",
       "    </tr>\n",
       "    <tr>\n",
       "      <th>222</th>\n",
       "      <td>2017</td>\n",
       "      <td>PCdoB</td>\n",
       "      <td>13</td>\n",
       "    </tr>\n",
       "    <tr>\n",
       "      <th>223</th>\n",
       "      <td>2017</td>\n",
       "      <td>PDT</td>\n",
       "      <td>22</td>\n",
       "    </tr>\n",
       "    <tr>\n",
       "      <th>224</th>\n",
       "      <td>2017</td>\n",
       "      <td>PEN</td>\n",
       "      <td>3</td>\n",
       "    </tr>\n",
       "    <tr>\n",
       "      <th>225</th>\n",
       "      <td>2017</td>\n",
       "      <td>PHS</td>\n",
       "      <td>7</td>\n",
       "    </tr>\n",
       "    <tr>\n",
       "      <th>226</th>\n",
       "      <td>2017</td>\n",
       "      <td>PMDB</td>\n",
       "      <td>64</td>\n",
       "    </tr>\n",
       "    <tr>\n",
       "      <th>227</th>\n",
       "      <td>2017</td>\n",
       "      <td>PODE</td>\n",
       "      <td>19</td>\n",
       "    </tr>\n",
       "    <tr>\n",
       "      <th>228</th>\n",
       "      <td>2017</td>\n",
       "      <td>PP</td>\n",
       "      <td>46</td>\n",
       "    </tr>\n",
       "    <tr>\n",
       "      <th>229</th>\n",
       "      <td>2017</td>\n",
       "      <td>PPS</td>\n",
       "      <td>10</td>\n",
       "    </tr>\n",
       "    <tr>\n",
       "      <th>230</th>\n",
       "      <td>2017</td>\n",
       "      <td>PR</td>\n",
       "      <td>37</td>\n",
       "    </tr>\n",
       "    <tr>\n",
       "      <th>231</th>\n",
       "      <td>2017</td>\n",
       "      <td>PRB</td>\n",
       "      <td>24</td>\n",
       "    </tr>\n",
       "    <tr>\n",
       "      <th>232</th>\n",
       "      <td>2017</td>\n",
       "      <td>PROS</td>\n",
       "      <td>6</td>\n",
       "    </tr>\n",
       "    <tr>\n",
       "      <th>233</th>\n",
       "      <td>2017</td>\n",
       "      <td>PRP</td>\n",
       "      <td>1</td>\n",
       "    </tr>\n",
       "    <tr>\n",
       "      <th>234</th>\n",
       "      <td>2017</td>\n",
       "      <td>PSB</td>\n",
       "      <td>37</td>\n",
       "    </tr>\n",
       "    <tr>\n",
       "      <th>235</th>\n",
       "      <td>2017</td>\n",
       "      <td>PSC</td>\n",
       "      <td>10</td>\n",
       "    </tr>\n",
       "    <tr>\n",
       "      <th>236</th>\n",
       "      <td>2017</td>\n",
       "      <td>PSD</td>\n",
       "      <td>40</td>\n",
       "    </tr>\n",
       "    <tr>\n",
       "      <th>237</th>\n",
       "      <td>2017</td>\n",
       "      <td>PSDB</td>\n",
       "      <td>49</td>\n",
       "    </tr>\n",
       "    <tr>\n",
       "      <th>238</th>\n",
       "      <td>2017</td>\n",
       "      <td>PSL</td>\n",
       "      <td>3</td>\n",
       "    </tr>\n",
       "    <tr>\n",
       "      <th>239</th>\n",
       "      <td>2017</td>\n",
       "      <td>PSOL</td>\n",
       "      <td>6</td>\n",
       "    </tr>\n",
       "    <tr>\n",
       "      <th>240</th>\n",
       "      <td>2017</td>\n",
       "      <td>PT</td>\n",
       "      <td>58</td>\n",
       "    </tr>\n",
       "    <tr>\n",
       "      <th>241</th>\n",
       "      <td>2017</td>\n",
       "      <td>PTB</td>\n",
       "      <td>16</td>\n",
       "    </tr>\n",
       "    <tr>\n",
       "      <th>242</th>\n",
       "      <td>2017</td>\n",
       "      <td>PV</td>\n",
       "      <td>6</td>\n",
       "    </tr>\n",
       "    <tr>\n",
       "      <th>243</th>\n",
       "      <td>2017</td>\n",
       "      <td>REDE</td>\n",
       "      <td>3</td>\n",
       "    </tr>\n",
       "    <tr>\n",
       "      <th>244</th>\n",
       "      <td>2017</td>\n",
       "      <td>SD</td>\n",
       "      <td>14</td>\n",
       "    </tr>\n",
       "  </tbody>\n",
       "</table>\n",
       "<p>245 rows × 3 columns</p>\n",
       "</div>"
      ],
      "text/plain": [
       "     year    party  count\n",
       "0    2009   AVANTE      2\n",
       "1    2009      DEM     40\n",
       "2    2009    PCdoB     12\n",
       "3    2009      PDT     21\n",
       "4    2009      PEN      1\n",
       "5    2009      PHS      3\n",
       "6    2009     PMDB     91\n",
       "7    2009      PMN      2\n",
       "8    2009     PODE      2\n",
       "9    2009       PP     42\n",
       "10   2009      PPS     10\n",
       "11   2009       PR     41\n",
       "12   2009      PRB     16\n",
       "13   2009     PROS      5\n",
       "14   2009      PSB     26\n",
       "15   2009      PSC     14\n",
       "16   2009      PSD     25\n",
       "17   2009     PSDB     53\n",
       "18   2009      PSL      1\n",
       "19   2009     PSOL      6\n",
       "20   2009       PT     74\n",
       "21   2009      PTB     24\n",
       "22   2009      PTC      3\n",
       "23   2009       PV     13\n",
       "24   2009  S.PART.      2\n",
       "25   2009       SD      8\n",
       "26   2010   AVANTE      2\n",
       "27   2010      DEM     44\n",
       "28   2010    PCdoB     12\n",
       "29   2010      PDT     19\n",
       "..    ...      ...    ...\n",
       "215  2016       PT     61\n",
       "216  2016      PTB     19\n",
       "217  2016       PV      7\n",
       "218  2016     REDE      3\n",
       "219  2016       SD     14\n",
       "220  2017   AVANTE      6\n",
       "221  2017      DEM     29\n",
       "222  2017    PCdoB     13\n",
       "223  2017      PDT     22\n",
       "224  2017      PEN      3\n",
       "225  2017      PHS      7\n",
       "226  2017     PMDB     64\n",
       "227  2017     PODE     19\n",
       "228  2017       PP     46\n",
       "229  2017      PPS     10\n",
       "230  2017       PR     37\n",
       "231  2017      PRB     24\n",
       "232  2017     PROS      6\n",
       "233  2017      PRP      1\n",
       "234  2017      PSB     37\n",
       "235  2017      PSC     10\n",
       "236  2017      PSD     40\n",
       "237  2017     PSDB     49\n",
       "238  2017      PSL      3\n",
       "239  2017     PSOL      6\n",
       "240  2017       PT     58\n",
       "241  2017      PTB     16\n",
       "242  2017       PV      6\n",
       "243  2017     REDE      3\n",
       "244  2017       SD     14\n",
       "\n",
       "[245 rows x 3 columns]"
      ]
     },
     "execution_count": 11,
     "metadata": {},
     "output_type": "execute_result"
    }
   ],
   "source": [
    "count_by_party_year = df_chamber.groupby([\"year\", \"party\", \"congressperson_name\"]).size().groupby([\"year\", \"party\"]).agg([\"count\"])\n",
    "count_by_party_year.reset_index()"
   ]
  },
  {
   "cell_type": "code",
   "execution_count": 12,
   "metadata": {
    "collapsed": true
   },
   "outputs": [],
   "source": [
    "count_by_party_year = count_by_party_year.reset_index()"
   ]
  },
  {
   "cell_type": "code",
   "execution_count": 13,
   "metadata": {
    "collapsed": true
   },
   "outputs": [],
   "source": [
    "def replace_sum(row):\n",
    "    c = count_by_party_year[(count_by_party_year.year== row.year) & (row.party==count_by_party_year.party)]\n",
    "#     print()\n",
    "#     c = count_by_party_year[(count_by_party_year.year== row.year) & (row.party==count_by_party_year.party)][\"count\"]\n",
    "#     print(row[\"sum\"]/c)\n",
    "    return row[\"sum\"]/c[\"count\"].values[0]"
   ]
  },
  {
   "cell_type": "code",
   "execution_count": 14,
   "metadata": {
    "scrolled": true
   },
   "outputs": [],
   "source": [
    "df_party_year = df_chamber.groupby([ \"year\", \"party\"])[att].agg(['sum']).reset_index()\n",
    "# Comment lines bellow if dont want to consider number of politicians in each party\n",
    "df_party_year['mean'] = df_party_year.apply(replace_sum,axis=1)\n",
    "df_party_year[\"n_congressman\"] = df_party_year.apply(lambda row: count_by_party_year[(count_by_party_year.year== row.year) & (row.party==count_by_party_year.party)][\"count\"].values[0],axis=1)\n",
    "# df_party_year['sum']/df_party_year[\"count\"]\n",
    "# df_party_year['mean'] = df_party_year['mean']/df_party_year[\"count\"]\n",
    "# politicians_by_party\n",
    "#DARLEY"
   ]
  },
  {
   "cell_type": "code",
   "execution_count": null,
   "metadata": {
    "scrolled": true
   },
   "outputs": [],
   "source": [
    "df_party_year"
   ]
  },
  {
   "cell_type": "code",
   "execution_count": 15,
   "metadata": {
    "collapsed": true
   },
   "outputs": [],
   "source": [
    "with open('sum_mean_party_year.json', 'w',encoding=\"utf8\") as f:\n",
    "    f.write(df_party_year.to_json(orient='records', lines=True) + \"\\n\")"
   ]
  },
  {
   "cell_type": "code",
   "execution_count": null,
   "metadata": {
    "collapsed": true
   },
   "outputs": [],
   "source": [
    "df_party_year = df_party_year[[\"year\",\"party\",\"sum\",\"mean\"]]"
   ]
  },
  {
   "cell_type": "markdown",
   "metadata": {},
   "source": [
    "**Vejamos qual partido teve maior gasto em cada ano:**"
   ]
  },
  {
   "cell_type": "code",
   "execution_count": null,
   "metadata": {},
   "outputs": [],
   "source": [
    "sum_years = df_party_year.groupby(\"year\")['sum'].max()\n",
    "sum_years"
   ]
  },
  {
   "cell_type": "code",
   "execution_count": null,
   "metadata": {
    "collapsed": true
   },
   "outputs": [],
   "source": [
    "sum_party_2009 = df_party_year[(df_party_year['year'] == 2009) & (df_party_year['sum'] == sum_years[2009])]\n",
    "sum_party_2010 = df_party_year[(df_party_year['year'] == 2010) & (df_party_year['sum'] == sum_years[2010])]\n",
    "sum_party_2011 = df_party_year[(df_party_year['year'] == 2011) & (df_party_year['sum'] == sum_years[2011])]\n",
    "sum_party_2012 = df_party_year[(df_party_year['year'] == 2012) & (df_party_year['sum'] == sum_years[2012])]\n",
    "sum_party_2013 = df_party_year[(df_party_year['year'] == 2013) & (df_party_year['sum'] == sum_years[2013])]\n",
    "sum_party_2014 = df_party_year[(df_party_year['year'] == 2014) & (df_party_year['sum'] == sum_years[2014])]\n",
    "sum_party_2015 = df_party_year[(df_party_year['year'] == 2015) & (df_party_year['sum'] == sum_years[2015])]\n",
    "sum_party_2016 = df_party_year[(df_party_year['year'] == 2016) & (df_party_year['sum'] == sum_years[2016])]\n",
    "sum_party_2017 = df_party_year[(df_party_year['year'] == 2017) & (df_party_year['sum'] == sum_years[2017])]\n"
   ]
  },
  {
   "cell_type": "code",
   "execution_count": null,
   "metadata": {
    "collapsed": true
   },
   "outputs": [],
   "source": [
    "# with open('sum_mean_max_year_party_maxtotal.json', 'w',encoding=\"utf8\") as f:\n",
    "#     for df in [sum_party_2009,sum_party_2010,sum_party_2011,sum_party_2012,sum_party_2013,sum_party_2014,sum_party_2015,sum_party_2016,sum_party_2017]:\n",
    "#         f.write(df.to_json(orient='records', lines=True) + \"\\n\")"
   ]
  },
  {
   "cell_type": "code",
   "execution_count": null,
   "metadata": {},
   "outputs": [],
   "source": [
    "sum_party_2009"
   ]
  },
  {
   "cell_type": "code",
   "execution_count": null,
   "metadata": {},
   "outputs": [],
   "source": [
    "sum_party_2010"
   ]
  },
  {
   "cell_type": "code",
   "execution_count": null,
   "metadata": {},
   "outputs": [],
   "source": [
    "sum_party_2011"
   ]
  },
  {
   "cell_type": "code",
   "execution_count": null,
   "metadata": {},
   "outputs": [],
   "source": [
    "sum_party_2012"
   ]
  },
  {
   "cell_type": "code",
   "execution_count": null,
   "metadata": {},
   "outputs": [],
   "source": [
    "sum_party_2013"
   ]
  },
  {
   "cell_type": "code",
   "execution_count": null,
   "metadata": {},
   "outputs": [],
   "source": [
    "sum_party_2014"
   ]
  },
  {
   "cell_type": "code",
   "execution_count": null,
   "metadata": {},
   "outputs": [],
   "source": [
    "sum_party_2015"
   ]
  },
  {
   "cell_type": "code",
   "execution_count": null,
   "metadata": {},
   "outputs": [],
   "source": [
    "sum_party_2016"
   ]
  },
  {
   "cell_type": "code",
   "execution_count": null,
   "metadata": {},
   "outputs": [],
   "source": [
    "sum_party_2017"
   ]
  },
  {
   "cell_type": "markdown",
   "metadata": {},
   "source": [
    "**Vamos descobrir agora quem são os partidos reponsáveis pelos maiores gastos na média em cada ano:**"
   ]
  },
  {
   "cell_type": "code",
   "execution_count": null,
   "metadata": {
    "collapsed": true
   },
   "outputs": [],
   "source": [
    "mean_max_year = df_party_year.groupby(\"year\")['mean'].max()"
   ]
  },
  {
   "cell_type": "code",
   "execution_count": null,
   "metadata": {},
   "outputs": [],
   "source": [
    "mean_max_year"
   ]
  },
  {
   "cell_type": "code",
   "execution_count": null,
   "metadata": {
    "collapsed": true
   },
   "outputs": [],
   "source": [
    "mean_2009 = df_party_year[(df_party_year['year'] == 2009) & (df_party_year['mean'] == mean_max_year[2009])]\n",
    "mean_2010 = df_party_year[(df_party_year['year'] == 2010) & (df_party_year['mean'] == mean_max_year[2010])]\n",
    "mean_2011 = df_party_year[(df_party_year['year'] == 2011) & (df_party_year['mean'] == mean_max_year[2011])]\n",
    "mean_2012 = df_party_year[(df_party_year['year'] == 2012) & (df_party_year['mean'] == mean_max_year[2012])]\n",
    "mean_2013 = df_party_year[(df_party_year['year'] == 2013) & (df_party_year['mean'] == mean_max_year[2013])]\n",
    "mean_2014 = df_party_year[(df_party_year['year'] == 2014) & (df_party_year['mean'] == mean_max_year[2014])]\n",
    "mean_2015 = df_party_year[(df_party_year['year'] == 2015) & (df_party_year['mean'] == mean_max_year[2015])]\n",
    "mean_2016 = df_party_year[(df_party_year['year'] == 2016) & (df_party_year['mean'] == mean_max_year[2016])]\n",
    "mean_2017 = df_party_year[(df_party_year['year'] == 2017) & (df_party_year['mean'] == mean_max_year[2017])]"
   ]
  },
  {
   "cell_type": "code",
   "execution_count": null,
   "metadata": {
    "collapsed": true
   },
   "outputs": [],
   "source": [
    "# with open('sum_mean_max_year_party_maxmean.json', 'w',encoding=\"utf8\") as f:\n",
    "#     for df in [mean_2009,mean_2010,mean_2011,mean_2012,mean_2013,mean_2014,mean_2015,mean_2016,mean_2017]:\n",
    "#         f.write(df.to_json(orient='records', lines=True) + \"\\n\")"
   ]
  },
  {
   "cell_type": "code",
   "execution_count": null,
   "metadata": {},
   "outputs": [],
   "source": [
    "mean_2009"
   ]
  },
  {
   "cell_type": "code",
   "execution_count": null,
   "metadata": {},
   "outputs": [],
   "source": [
    "mean_2010"
   ]
  },
  {
   "cell_type": "code",
   "execution_count": null,
   "metadata": {},
   "outputs": [],
   "source": [
    "mean_2011"
   ]
  },
  {
   "cell_type": "code",
   "execution_count": null,
   "metadata": {},
   "outputs": [],
   "source": [
    "mean_2012"
   ]
  },
  {
   "cell_type": "code",
   "execution_count": null,
   "metadata": {},
   "outputs": [],
   "source": [
    "mean_2013"
   ]
  },
  {
   "cell_type": "code",
   "execution_count": null,
   "metadata": {},
   "outputs": [],
   "source": [
    "mean_2014"
   ]
  },
  {
   "cell_type": "code",
   "execution_count": null,
   "metadata": {},
   "outputs": [],
   "source": [
    "mean_2015"
   ]
  },
  {
   "cell_type": "code",
   "execution_count": null,
   "metadata": {},
   "outputs": [],
   "source": [
    "mean_2016"
   ]
  },
  {
   "cell_type": "code",
   "execution_count": null,
   "metadata": {},
   "outputs": [],
   "source": [
    "mean_2017"
   ]
  },
  {
   "cell_type": "markdown",
   "metadata": {},
   "source": [
    "**Agora vejamos quem são os partidos com menores gastos médios:**"
   ]
  },
  {
   "cell_type": "code",
   "execution_count": null,
   "metadata": {
    "collapsed": true
   },
   "outputs": [],
   "source": [
    "mean_min_year = df_party_year.groupby(\"year\")['mean'].min()"
   ]
  },
  {
   "cell_type": "code",
   "execution_count": null,
   "metadata": {
    "collapsed": true
   },
   "outputs": [],
   "source": [
    "mean_2009 = df_party_year[(df_party_year['year'] == 2009) & (df_party_year['mean'] == mean_min_year[2009])]\n",
    "mean_2010 = df_party_year[(df_party_year['year'] == 2010) & (df_party_year['mean'] == mean_min_year[2010])]\n",
    "mean_2011 = df_party_year[(df_party_year['year'] == 2011) & (df_party_year['mean'] == mean_min_year[2011])]\n",
    "mean_2012 = df_party_year[(df_party_year['year'] == 2012) & (df_party_year['mean'] == mean_min_year[2012])]\n",
    "mean_2013 = df_party_year[(df_party_year['year'] == 2013) & (df_party_year['mean'] == mean_min_year[2013])]\n",
    "mean_2014 = df_party_year[(df_party_year['year'] == 2014) & (df_party_year['mean'] == mean_min_year[2014])]\n",
    "mean_2015 = df_party_year[(df_party_year['year'] == 2015) & (df_party_year['mean'] == mean_min_year[2015])]\n",
    "mean_2016 = df_party_year[(df_party_year['year'] == 2016) & (df_party_year['mean'] == mean_min_year[2016])]\n",
    "mean_2017 = df_party_year[(df_party_year['year'] == 2017) & (df_party_year['mean'] == mean_min_year[2017])]"
   ]
  },
  {
   "cell_type": "code",
   "execution_count": null,
   "metadata": {
    "collapsed": true
   },
   "outputs": [],
   "source": [
    "with open('sum_mean_max_year_party_minmean.json', 'w',encoding=\"utf8\") as f:\n",
    "    for df in [mean_2009,mean_2010,mean_2011,mean_2012,mean_2013,mean_2014,mean_2015,mean_2016,mean_2017]:\n",
    "        f.write(df.to_json(orient='records', lines=True) + \"\\n\")"
   ]
  },
  {
   "cell_type": "code",
   "execution_count": null,
   "metadata": {},
   "outputs": [],
   "source": [
    "mean_2009"
   ]
  },
  {
   "cell_type": "code",
   "execution_count": null,
   "metadata": {},
   "outputs": [],
   "source": [
    "mean_2010"
   ]
  },
  {
   "cell_type": "code",
   "execution_count": null,
   "metadata": {},
   "outputs": [],
   "source": [
    "mean_2011"
   ]
  },
  {
   "cell_type": "code",
   "execution_count": null,
   "metadata": {},
   "outputs": [],
   "source": [
    "mean_2012"
   ]
  },
  {
   "cell_type": "code",
   "execution_count": null,
   "metadata": {},
   "outputs": [],
   "source": [
    "mean_2013"
   ]
  },
  {
   "cell_type": "code",
   "execution_count": null,
   "metadata": {},
   "outputs": [],
   "source": [
    "mean_2014"
   ]
  },
  {
   "cell_type": "code",
   "execution_count": null,
   "metadata": {},
   "outputs": [],
   "source": [
    "mean_2015"
   ]
  },
  {
   "cell_type": "code",
   "execution_count": null,
   "metadata": {},
   "outputs": [],
   "source": [
    "mean_2016"
   ]
  },
  {
   "cell_type": "code",
   "execution_count": null,
   "metadata": {
    "scrolled": false
   },
   "outputs": [],
   "source": [
    "mean_2017"
   ]
  },
  {
   "cell_type": "code",
   "execution_count": null,
   "metadata": {},
   "outputs": [],
   "source": [
    "df_chamber[df_chamber[\"subquota_number\"] == 119].head()[\"subquota_description\"]"
   ]
  },
  {
   "cell_type": "markdown",
   "metadata": {},
   "source": [
    "##### Analisando Por tipo de Gasto"
   ]
  },
  {
   "cell_type": "code",
   "execution_count": null,
   "metadata": {
    "scrolled": true
   },
   "outputs": [],
   "source": [
    "df_chamber.groupby([\"subquota_number\",\"year\"])[att].agg(['sum', 'mean', 'max'])"
   ]
  },
  {
   "cell_type": "code",
   "execution_count": null,
   "metadata": {},
   "outputs": [],
   "source": [
    "df_chamber.groupby([\"year\",\"subquota_number\"])[att].agg(['sum', 'mean', 'max'])"
   ]
  },
  {
   "cell_type": "code",
   "execution_count": null,
   "metadata": {},
   "outputs": [],
   "source": [
    "df_chamber.iloc[0]"
   ]
  },
  {
   "cell_type": "code",
   "execution_count": null,
   "metadata": {},
   "outputs": [],
   "source": [
    "pd.unique(df_chamber[\"subquota_group_id\"])"
   ]
  },
  {
   "cell_type": "code",
   "execution_count": null,
   "metadata": {},
   "outputs": [],
   "source": [
    "pd.unique(df_chamber[\"subquota_group_description\"])"
   ]
  },
  {
   "cell_type": "code",
   "execution_count": 16,
   "metadata": {},
   "outputs": [
    {
     "data": {
      "text/plain": [
       "array(['Fuels and lubricants', 'Locomotion, meal and lodging',\n",
       "       'Maintenance of office supporting parliamentary activity',\n",
       "       'Software purchase or renting; Postal services; Subscriptions',\n",
       "       'Publicity of parliamentary activity',\n",
       "       'Purchase of office supplies',\n",
       "       'Security service provided by specialized company',\n",
       "       'Flight tickets', 'Congressperson meal', 'Telecommunication',\n",
       "       'Lodging, except for congressperson from Distrito Federal',\n",
       "       'Automotive vehicle renting or watercraft charter',\n",
       "       'Postal services', 'Consultancy, research and technical work',\n",
       "       'Publication subscriptions', 'Taxi, toll and parking',\n",
       "       'Automotive vehicle renting or charter',\n",
       "       'Terrestrial, maritime and fluvial tickets',\n",
       "       'Aircraft renting or charter of aircraft',\n",
       "       'Watercraft renting or charter',\n",
       "       'Participation in course, talk or similar event'], dtype=object)"
      ]
     },
     "execution_count": 16,
     "metadata": {},
     "output_type": "execute_result"
    }
   ],
   "source": [
    "subquota_description = pd.unique(df_chamber[\"subquota_description\"])\n",
    "subquota_description"
   ]
  },
  {
   "cell_type": "code",
   "execution_count": 17,
   "metadata": {},
   "outputs": [
    {
     "data": {
      "text/plain": [
       "array([  3,   2,   1,   7,   5,   6,   8,   9,  13,  10,  14,  15,  11,\n",
       "         4,  12, 122, 120, 123, 119, 121, 137])"
      ]
     },
     "execution_count": 17,
     "metadata": {},
     "output_type": "execute_result"
    }
   ],
   "source": [
    "subquota_number = pd.unique(df_chamber[\"subquota_number\"])\n",
    "subquota_number"
   ]
  },
  {
   "cell_type": "code",
   "execution_count": 18,
   "metadata": {
    "collapsed": true
   },
   "outputs": [],
   "source": [
    "with open('spents_categories.json', 'w',encoding=\"utf8\") as f:\n",
    "    catogories = {str(subquota_number[i]):subquota_description[i] for i in range(len(subquota_number))}\n",
    "    f.write(json.dumps(catogories))"
   ]
  },
  {
   "cell_type": "code",
   "execution_count": 19,
   "metadata": {
    "scrolled": true
   },
   "outputs": [
    {
     "data": {
      "text/html": [
       "<div>\n",
       "<style>\n",
       "    .dataframe thead tr:only-child th {\n",
       "        text-align: right;\n",
       "    }\n",
       "\n",
       "    .dataframe thead th {\n",
       "        text-align: left;\n",
       "    }\n",
       "\n",
       "    .dataframe tbody tr th {\n",
       "        vertical-align: top;\n",
       "    }\n",
       "</style>\n",
       "<table border=\"1\" class=\"dataframe\">\n",
       "  <thead>\n",
       "    <tr style=\"text-align: right;\">\n",
       "      <th></th>\n",
       "      <th></th>\n",
       "      <th>sum</th>\n",
       "      <th>mean</th>\n",
       "      <th>max</th>\n",
       "      <th>count</th>\n",
       "    </tr>\n",
       "    <tr>\n",
       "      <th>year</th>\n",
       "      <th>subquota_number</th>\n",
       "      <th></th>\n",
       "      <th></th>\n",
       "      <th></th>\n",
       "      <th></th>\n",
       "    </tr>\n",
       "  </thead>\n",
       "  <tbody>\n",
       "    <tr>\n",
       "      <th rowspan=\"15\" valign=\"top\">2009</th>\n",
       "      <th>1</th>\n",
       "      <td>1.158905e+07</td>\n",
       "      <td>626.029062</td>\n",
       "      <td>11970.00</td>\n",
       "      <td>18512</td>\n",
       "    </tr>\n",
       "    <tr>\n",
       "      <th>2</th>\n",
       "      <td>5.410240e+06</td>\n",
       "      <td>342.030590</td>\n",
       "      <td>28200.00</td>\n",
       "      <td>15818</td>\n",
       "    </tr>\n",
       "    <tr>\n",
       "      <th>3</th>\n",
       "      <td>1.392043e+07</td>\n",
       "      <td>194.887594</td>\n",
       "      <td>4500.00</td>\n",
       "      <td>71428</td>\n",
       "    </tr>\n",
       "    <tr>\n",
       "      <th>4</th>\n",
       "      <td>1.066000e+07</td>\n",
       "      <td>4385.025512</td>\n",
       "      <td>61000.00</td>\n",
       "      <td>2431</td>\n",
       "    </tr>\n",
       "    <tr>\n",
       "      <th>5</th>\n",
       "      <td>2.268215e+07</td>\n",
       "      <td>3514.977513</td>\n",
       "      <td>122850.00</td>\n",
       "      <td>6453</td>\n",
       "    </tr>\n",
       "    <tr>\n",
       "      <th>6</th>\n",
       "      <td>5.456408e+05</td>\n",
       "      <td>340.812511</td>\n",
       "      <td>12089.00</td>\n",
       "      <td>1601</td>\n",
       "    </tr>\n",
       "    <tr>\n",
       "      <th>7</th>\n",
       "      <td>9.493011e+05</td>\n",
       "      <td>360.402836</td>\n",
       "      <td>20693.00</td>\n",
       "      <td>2634</td>\n",
       "    </tr>\n",
       "    <tr>\n",
       "      <th>8</th>\n",
       "      <td>7.123733e+05</td>\n",
       "      <td>1050.698024</td>\n",
       "      <td>5111.28</td>\n",
       "      <td>678</td>\n",
       "    </tr>\n",
       "    <tr>\n",
       "      <th>9</th>\n",
       "      <td>5.096831e+06</td>\n",
       "      <td>4019.583107</td>\n",
       "      <td>58000.00</td>\n",
       "      <td>1268</td>\n",
       "    </tr>\n",
       "    <tr>\n",
       "      <th>10</th>\n",
       "      <td>7.993239e+06</td>\n",
       "      <td>484.291990</td>\n",
       "      <td>15996.50</td>\n",
       "      <td>16505</td>\n",
       "    </tr>\n",
       "    <tr>\n",
       "      <th>11</th>\n",
       "      <td>6.762420e+05</td>\n",
       "      <td>385.982877</td>\n",
       "      <td>36136.80</td>\n",
       "      <td>1752</td>\n",
       "    </tr>\n",
       "    <tr>\n",
       "      <th>12</th>\n",
       "      <td>9.078687e+04</td>\n",
       "      <td>280.206389</td>\n",
       "      <td>3000.00</td>\n",
       "      <td>324</td>\n",
       "    </tr>\n",
       "    <tr>\n",
       "      <th>13</th>\n",
       "      <td>8.249090e+05</td>\n",
       "      <td>65.422238</td>\n",
       "      <td>5852.00</td>\n",
       "      <td>12609</td>\n",
       "    </tr>\n",
       "    <tr>\n",
       "      <th>14</th>\n",
       "      <td>9.373111e+05</td>\n",
       "      <td>252.917180</td>\n",
       "      <td>6650.00</td>\n",
       "      <td>3706</td>\n",
       "    </tr>\n",
       "    <tr>\n",
       "      <th>15</th>\n",
       "      <td>8.700384e+06</td>\n",
       "      <td>536.299314</td>\n",
       "      <td>23048.20</td>\n",
       "      <td>16223</td>\n",
       "    </tr>\n",
       "    <tr>\n",
       "      <th rowspan=\"12\" valign=\"top\">2010</th>\n",
       "      <th>1</th>\n",
       "      <td>1.567201e+07</td>\n",
       "      <td>707.093054</td>\n",
       "      <td>25454.50</td>\n",
       "      <td>22164</td>\n",
       "    </tr>\n",
       "    <tr>\n",
       "      <th>3</th>\n",
       "      <td>1.652159e+07</td>\n",
       "      <td>215.590855</td>\n",
       "      <td>4500.00</td>\n",
       "      <td>76634</td>\n",
       "    </tr>\n",
       "    <tr>\n",
       "      <th>4</th>\n",
       "      <td>1.562511e+07</td>\n",
       "      <td>5673.604219</td>\n",
       "      <td>60000.00</td>\n",
       "      <td>2754</td>\n",
       "    </tr>\n",
       "    <tr>\n",
       "      <th>5</th>\n",
       "      <td>2.105567e+07</td>\n",
       "      <td>5239.031135</td>\n",
       "      <td>141000.00</td>\n",
       "      <td>4019</td>\n",
       "    </tr>\n",
       "    <tr>\n",
       "      <th>8</th>\n",
       "      <td>1.191138e+06</td>\n",
       "      <td>1304.641950</td>\n",
       "      <td>4500.00</td>\n",
       "      <td>913</td>\n",
       "    </tr>\n",
       "    <tr>\n",
       "      <th>9</th>\n",
       "      <td>9.105609e+06</td>\n",
       "      <td>4282.976933</td>\n",
       "      <td>65040.40</td>\n",
       "      <td>2126</td>\n",
       "    </tr>\n",
       "    <tr>\n",
       "      <th>10</th>\n",
       "      <td>1.602309e+07</td>\n",
       "      <td>532.240289</td>\n",
       "      <td>13968.10</td>\n",
       "      <td>30105</td>\n",
       "    </tr>\n",
       "    <tr>\n",
       "      <th>11</th>\n",
       "      <td>1.005495e+06</td>\n",
       "      <td>272.935643</td>\n",
       "      <td>32094.30</td>\n",
       "      <td>3684</td>\n",
       "    </tr>\n",
       "    <tr>\n",
       "      <th>12</th>\n",
       "      <td>2.240826e+05</td>\n",
       "      <td>430.928058</td>\n",
       "      <td>20000.00</td>\n",
       "      <td>520</td>\n",
       "    </tr>\n",
       "    <tr>\n",
       "      <th>13</th>\n",
       "      <td>1.456024e+06</td>\n",
       "      <td>66.888268</td>\n",
       "      <td>2068.00</td>\n",
       "      <td>21768</td>\n",
       "    </tr>\n",
       "    <tr>\n",
       "      <th>14</th>\n",
       "      <td>1.921964e+06</td>\n",
       "      <td>291.648486</td>\n",
       "      <td>8050.00</td>\n",
       "      <td>6590</td>\n",
       "    </tr>\n",
       "    <tr>\n",
       "      <th>15</th>\n",
       "      <td>2.054058e+07</td>\n",
       "      <td>622.027127</td>\n",
       "      <td>57333.00</td>\n",
       "      <td>33022</td>\n",
       "    </tr>\n",
       "    <tr>\n",
       "      <th rowspan=\"3\" valign=\"top\">2011</th>\n",
       "      <th>1</th>\n",
       "      <td>1.621037e+07</td>\n",
       "      <td>751.279945</td>\n",
       "      <td>26940.00</td>\n",
       "      <td>21577</td>\n",
       "    </tr>\n",
       "    <tr>\n",
       "      <th>3</th>\n",
       "      <td>1.658279e+07</td>\n",
       "      <td>213.599348</td>\n",
       "      <td>4500.00</td>\n",
       "      <td>77635</td>\n",
       "    </tr>\n",
       "    <tr>\n",
       "      <th>4</th>\n",
       "      <td>1.550052e+07</td>\n",
       "      <td>4920.801029</td>\n",
       "      <td>72000.00</td>\n",
       "      <td>3150</td>\n",
       "    </tr>\n",
       "    <tr>\n",
       "      <th>...</th>\n",
       "      <th>...</th>\n",
       "      <td>...</td>\n",
       "      <td>...</td>\n",
       "      <td>...</td>\n",
       "      <td>...</td>\n",
       "    </tr>\n",
       "    <tr>\n",
       "      <th rowspan=\"13\" valign=\"top\">2016</th>\n",
       "      <th>8</th>\n",
       "      <td>1.739743e+06</td>\n",
       "      <td>1823.629591</td>\n",
       "      <td>8700.00</td>\n",
       "      <td>954</td>\n",
       "    </tr>\n",
       "    <tr>\n",
       "      <th>9</th>\n",
       "      <td>2.419883e+06</td>\n",
       "      <td>996.246422</td>\n",
       "      <td>16137.20</td>\n",
       "      <td>2429</td>\n",
       "    </tr>\n",
       "    <tr>\n",
       "      <th>10</th>\n",
       "      <td>7.897425e+06</td>\n",
       "      <td>447.598347</td>\n",
       "      <td>7109.57</td>\n",
       "      <td>17644</td>\n",
       "    </tr>\n",
       "    <tr>\n",
       "      <th>11</th>\n",
       "      <td>6.798162e+05</td>\n",
       "      <td>245.598335</td>\n",
       "      <td>69610.30</td>\n",
       "      <td>2768</td>\n",
       "    </tr>\n",
       "    <tr>\n",
       "      <th>12</th>\n",
       "      <td>4.054618e+05</td>\n",
       "      <td>365.610271</td>\n",
       "      <td>4000.00</td>\n",
       "      <td>1109</td>\n",
       "    </tr>\n",
       "    <tr>\n",
       "      <th>13</th>\n",
       "      <td>1.739860e+06</td>\n",
       "      <td>66.338508</td>\n",
       "      <td>5142.25</td>\n",
       "      <td>26227</td>\n",
       "    </tr>\n",
       "    <tr>\n",
       "      <th>14</th>\n",
       "      <td>1.922048e+06</td>\n",
       "      <td>323.304905</td>\n",
       "      <td>5024.00</td>\n",
       "      <td>5945</td>\n",
       "    </tr>\n",
       "    <tr>\n",
       "      <th>119</th>\n",
       "      <td>3.400546e+06</td>\n",
       "      <td>10120.673929</td>\n",
       "      <td>39600.01</td>\n",
       "      <td>336</td>\n",
       "    </tr>\n",
       "    <tr>\n",
       "      <th>120</th>\n",
       "      <td>2.716932e+07</td>\n",
       "      <td>4287.410169</td>\n",
       "      <td>17000.00</td>\n",
       "      <td>6337</td>\n",
       "    </tr>\n",
       "    <tr>\n",
       "      <th>121</th>\n",
       "      <td>2.799443e+04</td>\n",
       "      <td>903.046129</td>\n",
       "      <td>6000.00</td>\n",
       "      <td>31</td>\n",
       "    </tr>\n",
       "    <tr>\n",
       "      <th>122</th>\n",
       "      <td>8.803534e+05</td>\n",
       "      <td>33.399856</td>\n",
       "      <td>2413.85</td>\n",
       "      <td>26358</td>\n",
       "    </tr>\n",
       "    <tr>\n",
       "      <th>123</th>\n",
       "      <td>9.460987e+04</td>\n",
       "      <td>103.173250</td>\n",
       "      <td>1833.66</td>\n",
       "      <td>917</td>\n",
       "    </tr>\n",
       "    <tr>\n",
       "      <th>137</th>\n",
       "      <td>2.096184e+05</td>\n",
       "      <td>5516.272895</td>\n",
       "      <td>7697.16</td>\n",
       "      <td>38</td>\n",
       "    </tr>\n",
       "    <tr>\n",
       "      <th rowspan=\"17\" valign=\"top\">2017</th>\n",
       "      <th>1</th>\n",
       "      <td>1.784921e+07</td>\n",
       "      <td>1000.348120</td>\n",
       "      <td>14823.80</td>\n",
       "      <td>17843</td>\n",
       "    </tr>\n",
       "    <tr>\n",
       "      <th>3</th>\n",
       "      <td>1.422304e+07</td>\n",
       "      <td>259.662914</td>\n",
       "      <td>6000.00</td>\n",
       "      <td>54775</td>\n",
       "    </tr>\n",
       "    <tr>\n",
       "      <th>4</th>\n",
       "      <td>1.476726e+07</td>\n",
       "      <td>7499.879787</td>\n",
       "      <td>60000.00</td>\n",
       "      <td>1969</td>\n",
       "    </tr>\n",
       "    <tr>\n",
       "      <th>5</th>\n",
       "      <td>4.050660e+07</td>\n",
       "      <td>4277.812098</td>\n",
       "      <td>79900.00</td>\n",
       "      <td>9469</td>\n",
       "    </tr>\n",
       "    <tr>\n",
       "      <th>8</th>\n",
       "      <td>1.226639e+06</td>\n",
       "      <td>1767.491859</td>\n",
       "      <td>8700.00</td>\n",
       "      <td>694</td>\n",
       "    </tr>\n",
       "    <tr>\n",
       "      <th>9</th>\n",
       "      <td>1.933151e+06</td>\n",
       "      <td>1084.820943</td>\n",
       "      <td>9426.23</td>\n",
       "      <td>1782</td>\n",
       "    </tr>\n",
       "    <tr>\n",
       "      <th>10</th>\n",
       "      <td>5.212827e+06</td>\n",
       "      <td>457.908178</td>\n",
       "      <td>6106.48</td>\n",
       "      <td>11384</td>\n",
       "    </tr>\n",
       "    <tr>\n",
       "      <th>11</th>\n",
       "      <td>3.570482e+05</td>\n",
       "      <td>184.235372</td>\n",
       "      <td>8130.85</td>\n",
       "      <td>1938</td>\n",
       "    </tr>\n",
       "    <tr>\n",
       "      <th>12</th>\n",
       "      <td>3.346988e+05</td>\n",
       "      <td>423.133780</td>\n",
       "      <td>5067.30</td>\n",
       "      <td>791</td>\n",
       "    </tr>\n",
       "    <tr>\n",
       "      <th>13</th>\n",
       "      <td>1.075599e+06</td>\n",
       "      <td>65.685465</td>\n",
       "      <td>5155.15</td>\n",
       "      <td>16375</td>\n",
       "    </tr>\n",
       "    <tr>\n",
       "      <th>14</th>\n",
       "      <td>1.476400e+06</td>\n",
       "      <td>278.723717</td>\n",
       "      <td>6903.75</td>\n",
       "      <td>5297</td>\n",
       "    </tr>\n",
       "    <tr>\n",
       "      <th>119</th>\n",
       "      <td>2.214901e+06</td>\n",
       "      <td>10206.919171</td>\n",
       "      <td>39000.00</td>\n",
       "      <td>217</td>\n",
       "    </tr>\n",
       "    <tr>\n",
       "      <th>120</th>\n",
       "      <td>2.087525e+07</td>\n",
       "      <td>4369.949031</td>\n",
       "      <td>12713.00</td>\n",
       "      <td>4777</td>\n",
       "    </tr>\n",
       "    <tr>\n",
       "      <th>121</th>\n",
       "      <td>8.738080e+04</td>\n",
       "      <td>3799.165217</td>\n",
       "      <td>7000.00</td>\n",
       "      <td>23</td>\n",
       "    </tr>\n",
       "    <tr>\n",
       "      <th>122</th>\n",
       "      <td>7.889730e+05</td>\n",
       "      <td>35.141999</td>\n",
       "      <td>2700.00</td>\n",
       "      <td>22451</td>\n",
       "    </tr>\n",
       "    <tr>\n",
       "      <th>123</th>\n",
       "      <td>1.007248e+05</td>\n",
       "      <td>87.586800</td>\n",
       "      <td>2066.99</td>\n",
       "      <td>1150</td>\n",
       "    </tr>\n",
       "    <tr>\n",
       "      <th>137</th>\n",
       "      <td>9.328715e+04</td>\n",
       "      <td>4055.963043</td>\n",
       "      <td>7697.16</td>\n",
       "      <td>23</td>\n",
       "    </tr>\n",
       "  </tbody>\n",
       "</table>\n",
       "<p>136 rows × 4 columns</p>\n",
       "</div>"
      ],
      "text/plain": [
       "                               sum          mean        max  count\n",
       "year subquota_number                                              \n",
       "2009 1                1.158905e+07    626.029062   11970.00  18512\n",
       "     2                5.410240e+06    342.030590   28200.00  15818\n",
       "     3                1.392043e+07    194.887594    4500.00  71428\n",
       "     4                1.066000e+07   4385.025512   61000.00   2431\n",
       "     5                2.268215e+07   3514.977513  122850.00   6453\n",
       "     6                5.456408e+05    340.812511   12089.00   1601\n",
       "     7                9.493011e+05    360.402836   20693.00   2634\n",
       "     8                7.123733e+05   1050.698024    5111.28    678\n",
       "     9                5.096831e+06   4019.583107   58000.00   1268\n",
       "     10               7.993239e+06    484.291990   15996.50  16505\n",
       "     11               6.762420e+05    385.982877   36136.80   1752\n",
       "     12               9.078687e+04    280.206389    3000.00    324\n",
       "     13               8.249090e+05     65.422238    5852.00  12609\n",
       "     14               9.373111e+05    252.917180    6650.00   3706\n",
       "     15               8.700384e+06    536.299314   23048.20  16223\n",
       "2010 1                1.567201e+07    707.093054   25454.50  22164\n",
       "     3                1.652159e+07    215.590855    4500.00  76634\n",
       "     4                1.562511e+07   5673.604219   60000.00   2754\n",
       "     5                2.105567e+07   5239.031135  141000.00   4019\n",
       "     8                1.191138e+06   1304.641950    4500.00    913\n",
       "     9                9.105609e+06   4282.976933   65040.40   2126\n",
       "     10               1.602309e+07    532.240289   13968.10  30105\n",
       "     11               1.005495e+06    272.935643   32094.30   3684\n",
       "     12               2.240826e+05    430.928058   20000.00    520\n",
       "     13               1.456024e+06     66.888268    2068.00  21768\n",
       "     14               1.921964e+06    291.648486    8050.00   6590\n",
       "     15               2.054058e+07    622.027127   57333.00  33022\n",
       "2011 1                1.621037e+07    751.279945   26940.00  21577\n",
       "     3                1.658279e+07    213.599348    4500.00  77635\n",
       "     4                1.550052e+07   4920.801029   72000.00   3150\n",
       "...                            ...           ...        ...    ...\n",
       "2016 8                1.739743e+06   1823.629591    8700.00    954\n",
       "     9                2.419883e+06    996.246422   16137.20   2429\n",
       "     10               7.897425e+06    447.598347    7109.57  17644\n",
       "     11               6.798162e+05    245.598335   69610.30   2768\n",
       "     12               4.054618e+05    365.610271    4000.00   1109\n",
       "     13               1.739860e+06     66.338508    5142.25  26227\n",
       "     14               1.922048e+06    323.304905    5024.00   5945\n",
       "     119              3.400546e+06  10120.673929   39600.01    336\n",
       "     120              2.716932e+07   4287.410169   17000.00   6337\n",
       "     121              2.799443e+04    903.046129    6000.00     31\n",
       "     122              8.803534e+05     33.399856    2413.85  26358\n",
       "     123              9.460987e+04    103.173250    1833.66    917\n",
       "     137              2.096184e+05   5516.272895    7697.16     38\n",
       "2017 1                1.784921e+07   1000.348120   14823.80  17843\n",
       "     3                1.422304e+07    259.662914    6000.00  54775\n",
       "     4                1.476726e+07   7499.879787   60000.00   1969\n",
       "     5                4.050660e+07   4277.812098   79900.00   9469\n",
       "     8                1.226639e+06   1767.491859    8700.00    694\n",
       "     9                1.933151e+06   1084.820943    9426.23   1782\n",
       "     10               5.212827e+06    457.908178    6106.48  11384\n",
       "     11               3.570482e+05    184.235372    8130.85   1938\n",
       "     12               3.346988e+05    423.133780    5067.30    791\n",
       "     13               1.075599e+06     65.685465    5155.15  16375\n",
       "     14               1.476400e+06    278.723717    6903.75   5297\n",
       "     119              2.214901e+06  10206.919171   39000.00    217\n",
       "     120              2.087525e+07   4369.949031   12713.00   4777\n",
       "     121              8.738080e+04   3799.165217    7000.00     23\n",
       "     122              7.889730e+05     35.141999    2700.00  22451\n",
       "     123              1.007248e+05     87.586800    2066.99   1150\n",
       "     137              9.328715e+04   4055.963043    7697.16     23\n",
       "\n",
       "[136 rows x 4 columns]"
      ]
     },
     "execution_count": 19,
     "metadata": {},
     "output_type": "execute_result"
    }
   ],
   "source": [
    "subquota_number_year = df_chamber.groupby([\"year\", \"subquota_number\"])[att].agg(['sum', 'mean', 'max',\"count\"])\n",
    "subquota_number_year"
   ]
  },
  {
   "cell_type": "code",
   "execution_count": 20,
   "metadata": {
    "collapsed": true
   },
   "outputs": [],
   "source": [
    "with open('sum_mean_max_year_spents_type_total.json', 'w') as f: \n",
    "    f.write(subquota_number_year.reset_index().to_json(orient='records', lines=True))"
   ]
  },
  {
   "cell_type": "code",
   "execution_count": null,
   "metadata": {
    "scrolled": true
   },
   "outputs": [],
   "source": [
    "subquota_number_year.reset_index(inplace=True)\n",
    "subquota_number_year['sum'] = subquota_number_year['sum']/subquota_number_year[\"count\"]\n",
    "subquota_number_year['mean'] = subquota_number_year['mean']/subquota_number_year[\"count\"]\n",
    "subquota_number_year"
   ]
  },
  {
   "cell_type": "code",
   "execution_count": null,
   "metadata": {
    "collapsed": true
   },
   "outputs": [],
   "source": [
    "# with open('sum_mean_max_year_spents_type_total_normalizedbycount.json', 'w') as f: \n",
    "#     f.write(subquota_number_year.reset_index().to_json(orient='records', lines=True))"
   ]
  },
  {
   "cell_type": "code",
   "execution_count": 21,
   "metadata": {},
   "outputs": [
    {
     "data": {
      "text/plain": [
       "year\n",
       "2009    22682149.89\n",
       "2010    21055666.13\n",
       "2011    29461975.88\n",
       "2012    29834933.63\n",
       "2013    39138875.78\n",
       "2014    47724277.80\n",
       "2015    49832286.19\n",
       "2016    50495513.76\n",
       "2017    40506602.76\n",
       "Name: sum, dtype: float64"
      ]
     },
     "execution_count": 21,
     "metadata": {},
     "output_type": "execute_result"
    }
   ],
   "source": [
    "sum_subquota_number_year = subquota_number_year.groupby([\"year\"])['sum'].max()\n",
    "sum_subquota_number_year"
   ]
  },
  {
   "cell_type": "code",
   "execution_count": null,
   "metadata": {
    "collapsed": true
   },
   "outputs": [],
   "source": [
    "max_expenses_2009 = subquota_number_year[(subquota_number_year[\"sum\"] == sum_subquota_number_year[2009])]\n",
    "max_expenses_2010 = subquota_number_year[(subquota_number_year[\"sum\"] == sum_subquota_number_year[2010])]\n",
    "max_expenses_2011 = subquota_number_year[(subquota_number_year[\"sum\"] == sum_subquota_number_year[2011])]\n",
    "max_expenses_2012 = subquota_number_year[(subquota_number_year[\"sum\"] == sum_subquota_number_year[2012])]\n",
    "max_expenses_2013 = subquota_number_year[(subquota_number_year[\"sum\"] == sum_subquota_number_year[2013])]\n",
    "max_expenses_2014 = subquota_number_year[(subquota_number_year[\"sum\"] == sum_subquota_number_year[2014])]\n",
    "max_expenses_2015 = subquota_number_year[(subquota_number_year[\"sum\"] == sum_subquota_number_year[2015])]\n",
    "max_expenses_2016 = subquota_number_year[(subquota_number_year[\"sum\"] == sum_subquota_number_year[2016])]\n",
    "max_expenses_2017 = subquota_number_year[(subquota_number_year[\"sum\"] == sum_subquota_number_year[2017])]"
   ]
  },
  {
   "cell_type": "code",
   "execution_count": null,
   "metadata": {
    "collapsed": true
   },
   "outputs": [],
   "source": [
    "# with open('max_expenses_type_year_sum_normalizedbycount.json', 'w',encoding=\"utf8\") as f:\n",
    "#     for df in [max_expenses_2009,max_expenses_2010,max_expenses_2011,max_expenses_2012,max_expenses_2013,max_expenses_2014,max_expenses_2015,max_expenses_2016,max_expenses_2017]:\n",
    "#         f.write(df.to_json(orient='records', lines=True) + \"\\n\")"
   ]
  },
  {
   "cell_type": "code",
   "execution_count": null,
   "metadata": {},
   "outputs": [],
   "source": [
    "max_expenses_2009"
   ]
  },
  {
   "cell_type": "code",
   "execution_count": null,
   "metadata": {},
   "outputs": [],
   "source": [
    "mean_subquota_number_year = subquota_number_year.groupby([\"year\"])['mean'].max()\n",
    "mean_subquota_number_year"
   ]
  },
  {
   "cell_type": "code",
   "execution_count": null,
   "metadata": {
    "collapsed": true
   },
   "outputs": [],
   "source": [
    "mean_expenses_2009 = subquota_number_year[(subquota_number_year[\"mean\"] == mean_subquota_number_year[2009])]\n",
    "mean_expenses_2010 = subquota_number_year[(subquota_number_year[\"mean\"] == mean_subquota_number_year[2010])]\n",
    "mean_expenses_2011 = subquota_number_year[(subquota_number_year[\"mean\"] == mean_subquota_number_year[2011])]\n",
    "mean_expenses_2012 = subquota_number_year[(subquota_number_year[\"mean\"] == mean_subquota_number_year[2012])]\n",
    "mean_expenses_2013 = subquota_number_year[(subquota_number_year[\"mean\"] == mean_subquota_number_year[2013])]\n",
    "mean_expenses_2014 = subquota_number_year[(subquota_number_year[\"mean\"] == mean_subquota_number_year[2014])]\n",
    "mean_expenses_2015 = subquota_number_year[(subquota_number_year[\"mean\"] == mean_subquota_number_year[2015])]\n",
    "mean_expenses_2016 = subquota_number_year[(subquota_number_year[\"mean\"] == mean_subquota_number_year[2016])]\n",
    "mean_expenses_2017 = subquota_number_year[(subquota_number_year[\"mean\"] == mean_subquota_number_year[2017])]"
   ]
  },
  {
   "cell_type": "code",
   "execution_count": null,
   "metadata": {},
   "outputs": [],
   "source": [
    "mean_expenses_2009"
   ]
  },
  {
   "cell_type": "code",
   "execution_count": null,
   "metadata": {
    "collapsed": true
   },
   "outputs": [],
   "source": [
    "# with open('max_expenses_type_year_mean_normalizedbycount.json', 'w',encoding=\"utf8\") as f:\n",
    "#     for df in [mean_expenses_2009,mean_expenses_2010,mean_expenses_2011,mean_expenses_2012,mean_expenses_2013,mean_expenses_2014,mean_expenses_2015,mean_expenses_2016,mean_expenses_2017]:\n",
    "#         f.write(df.to_json(orient='records', lines=True) + \"\\n\")"
   ]
  },
  {
   "cell_type": "code",
   "execution_count": null,
   "metadata": {
    "scrolled": true
   },
   "outputs": [],
   "source": [
    "subquota_number_party_year = df_chamber.groupby([\"party\", \"year\", \"subquota_number\"])[att].agg(['sum', 'mean', 'max', 'count'])\n",
    "subquota_number_party_year"
   ]
  },
  {
   "cell_type": "code",
   "execution_count": null,
   "metadata": {
    "scrolled": true
   },
   "outputs": [],
   "source": [
    "subquota_number_party_year.reset_index(inplace=True)\n",
    "# subquota_number_party_year['sum'] = subquota_number_party_year['sum']/subquota_number_party_year[\"count\"]\n",
    "# subquota_number_party_year['mean'] = subquota_number_party_year['mean']/subquota_number_party_year[\"count\"]\n",
    "subquota_number_party_year"
   ]
  },
  {
   "cell_type": "code",
   "execution_count": null,
   "metadata": {
    "scrolled": true
   },
   "outputs": [],
   "source": [
    "# subquota_number_party_year[\"max_spent\"] = subquota_number_party_year.groupby([\"party\",\"year\"])['sum'].transform(max)\n",
    "# maxspentbytype_normalizedbycount = subquota_number_party_year[subquota_number_party_year[\"sum\"] == subquota_number_party_year[\"max_spent\"]]\n",
    "# maxspentbytype_normalizedbycount"
   ]
  },
  {
   "cell_type": "code",
   "execution_count": null,
   "metadata": {
    "collapsed": true
   },
   "outputs": [],
   "source": [
    "with open('sum_mean_max_year_maxspentbytype_normalizedbycount.json', 'w') as f: \n",
    "    f.write(maxspentbytype_normalizedbycount.to_json(orient='records', lines=True))"
   ]
  },
  {
   "cell_type": "code",
   "execution_count": null,
   "metadata": {
    "scrolled": true
   },
   "outputs": [],
   "source": [
    "# subquota_number_party_year[\"mean_spent\"] = subquota_number_party_year.groupby([\"party\",\"year\"])['mean'].transform(max)\n",
    "# meanspentbytype_normalizedbycount = subquota_number_party_year[subquota_number_party_year[\"mean\"] == subquota_number_party_year[\"mean_spent\"]]\n",
    "# meanspentbytype_normalizedbycount"
   ]
  },
  {
   "cell_type": "code",
   "execution_count": null,
   "metadata": {
    "collapsed": true
   },
   "outputs": [],
   "source": [
    "# with open('sum_mean_max_year_meanspentbytype_normalizedbycount.json', 'w') as f: \n",
    "#     f.write(meanspentbytype_normalizedbycount.to_json(orient='records', lines=True))"
   ]
  }
 ],
 "metadata": {
  "anaconda-cloud": {},
  "kernelspec": {
   "display_name": "Python 3",
   "language": "python",
   "name": "python3"
  },
  "language_info": {
   "codemirror_mode": {
    "name": "ipython",
    "version": 3
   },
   "file_extension": ".py",
   "mimetype": "text/x-python",
   "name": "python",
   "nbconvert_exporter": "python",
   "pygments_lexer": "ipython3",
   "version": "3.6.3"
  }
 },
 "nbformat": 4,
 "nbformat_minor": 2
}
