{
 "cells": [
  {
   "cell_type": "code",
   "execution_count": 1,
   "metadata": {
    "collapsed": true
   },
   "outputs": [],
   "source": [
    "import pandas as pd"
   ]
  },
  {
   "cell_type": "code",
   "execution_count": 2,
   "metadata": {},
   "outputs": [
    {
     "data": {
      "text/plain": [
       "['year',\n",
       " 'applicant_id',\n",
       " 'document_id',\n",
       " 'reimbursement_value_total',\n",
       " 'total_net_value',\n",
       " 'reimbursement_numbers',\n",
       " 'congressperson_name',\n",
       " 'congressperson_id',\n",
       " 'congressperson_document',\n",
       " 'term',\n",
       " 'state',\n",
       " 'party',\n",
       " 'term_id',\n",
       " 'subquota_number',\n",
       " 'subquota_description',\n",
       " 'subquota_group_id',\n",
       " 'subquota_group_description',\n",
       " 'supplier',\n",
       " 'cnpj_cpf',\n",
       " 'document_number',\n",
       " 'document_type',\n",
       " 'issue_date',\n",
       " 'document_value',\n",
       " 'remark_value',\n",
       " 'net_values',\n",
       " 'month',\n",
       " 'installment',\n",
       " 'passenger',\n",
       " 'leg_of_the_trip',\n",
       " 'batch_number',\n",
       " 'reimbursement_values']"
      ]
     },
     "execution_count": 2,
     "metadata": {},
     "output_type": "execute_result"
    }
   ],
   "source": [
    "df_deputies = pd.read_csv('data/Chamber/reimbursements.xz',compression='xz',low_memory=False)\n",
    "list(df_deputies)"
   ]
  },
  {
   "cell_type": "code",
   "execution_count": 3,
   "metadata": {
    "collapsed": true
   },
   "outputs": [],
   "source": [
    "# df_deputies[df_deputies[\"year\"]==2010].head()"
   ]
  },
  {
   "cell_type": "code",
   "execution_count": 4,
   "metadata": {},
   "outputs": [
    {
     "data": {
      "text/plain": [
       "['year',\n",
       " 'month',\n",
       " 'congressperson_name',\n",
       " 'expense_type',\n",
       " 'cnpj_cpf',\n",
       " 'supplier',\n",
       " 'document_id',\n",
       " 'date',\n",
       " 'expense_details',\n",
       " 'reimbursement_value']"
      ]
     },
     "execution_count": 4,
     "metadata": {},
     "output_type": "execute_result"
    }
   ],
   "source": [
    "df_senate = pd.read_csv(\"data/Senate/federal-senate-reimbursements.xz\",compression='xz')\n",
    "list(df_senate)"
   ]
  },
  {
   "cell_type": "code",
   "execution_count": 5,
   "metadata": {
    "collapsed": true
   },
   "outputs": [],
   "source": [
    "# df_senate[df_senate[\"year\"]==2010].head()"
   ]
  },
  {
   "cell_type": "code",
   "execution_count": null,
   "metadata": {
    "collapsed": true
   },
   "outputs": [],
   "source": []
  }
 ],
 "metadata": {
  "kernelspec": {
   "display_name": "Python 3",
   "language": "python",
   "name": "python3"
  },
  "language_info": {
   "codemirror_mode": {
    "name": "ipython",
    "version": 3
   },
   "file_extension": ".py",
   "mimetype": "text/x-python",
   "name": "python",
   "nbconvert_exporter": "python",
   "pygments_lexer": "ipython3",
   "version": "3.6.3"
  }
 },
 "nbformat": 4,
 "nbformat_minor": 2
}
