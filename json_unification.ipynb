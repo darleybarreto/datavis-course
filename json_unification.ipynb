{
 "cells": [
  {
   "cell_type": "code",
   "execution_count": 288,
   "metadata": {
    "collapsed": true
   },
   "outputs": [],
   "source": [
    "import os\n",
    "import json\n",
    "from pprint import pprint"
   ]
  },
  {
   "cell_type": "code",
   "execution_count": 289,
   "metadata": {},
   "outputs": [],
   "source": [
    "path = \"json_files/chamber/\"\n",
    "\n",
    "json_paths = [fname for fname in os.listdir(path)]"
   ]
  },
  {
   "cell_type": "code",
   "execution_count": 290,
   "metadata": {},
   "outputs": [],
   "source": [
    "json_files = [open(path+file_path) for file_path in json_paths]"
   ]
  },
  {
   "cell_type": "code",
   "execution_count": 291,
   "metadata": {},
   "outputs": [
    {
     "name": "stdout",
     "output_type": "stream",
     "text": [
      "json_files/chamber/spents_categories.json ---> doesn't contain 'year'\n"
     ]
    }
   ],
   "source": [
    "data = []\n",
    "\n",
    "for json_file in json_files:\n",
    "    json_str = json_file.read().replace('\\n', ',')\n",
    "    if \"year\" not in json_str:\n",
    "        print(json_file.name + \" ---> doesn't contain 'year'\")\n",
    "    else:\n",
    "        data.append('[' + json_str + ']')\n"
   ]
  },
  {
   "cell_type": "code",
   "execution_count": 292,
   "metadata": {},
   "outputs": [],
   "source": [
    "json_data = []\n",
    "\n",
    "for js in data:\n",
    "    json_data.append(json.loads(js))"
   ]
  },
  {
   "cell_type": "code",
   "execution_count": 294,
   "metadata": {},
   "outputs": [],
   "source": [
    "# Fazer um json {jsonid: {all data}}"
   ]
  },
  {
   "cell_type": "code",
   "execution_count": null,
   "metadata": {
    "collapsed": true
   },
   "outputs": [],
   "source": [
    "# Fazer um json {year: {jsonid: {all data}}}"
   ]
  }
 ],
 "metadata": {
  "kernelspec": {
   "display_name": "Python 3",
   "language": "python",
   "name": "python3"
  },
  "language_info": {
   "codemirror_mode": {
    "name": "ipython",
    "version": 3
   },
   "file_extension": ".py",
   "mimetype": "text/x-python",
   "name": "python",
   "nbconvert_exporter": "python",
   "pygments_lexer": "ipython3",
   "version": "3.6.3"
  }
 },
 "nbformat": 4,
 "nbformat_minor": 2
}
